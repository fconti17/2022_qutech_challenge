{
 "cells": [
  {
   "cell_type": "markdown",
   "id": "20ce6a40-2335-4cd1-89e2-58eff03dbf54",
   "metadata": {},
   "source": [
    "# Logical Pauli operations in an error-detecting repetition code\n",
    "\n",
    "We implement the [[3, 1, 3]] 3-qubit repetition code capable of detecting up to 2 bit-flip errors. Following the spirit of [Marques et al.](https://www.nature.com/articles/s41567-021-01423-9.pdf), we attempt to evaluate the repetition code's performance on Quantum Inspire's 5-qubit Starmon-5 device. Specifically, we attempt to analyze the performance of logical Pauli operations as depicted in Figures 2c and 2e of the paper.\n",
    "\n",
    "Unfortunately, our attempt does not yield meaningful results. The logical Pauli measurements performed on the quantum device do not follow the expected trends. We tested our implementation using the `QX single-node simulator`, which gave the correct syndrome measurements and reproduced the expected trends. We suspect a few reasons for this:\n",
    "\n",
    "1. Other error types (phase-flip errors, dissipative effects, etc) dominate over bit-flip errors. \n",
    "\n",
    "2. Due to the topology of Starmon, multiple `SWAP` gates were introduced in order to implement certain 2-qubit gates, which increased the circuit depth and hence the errors.\n",
    "\n",
    "3. A software bug was introduced when interfacing with the quantum device. In particular, the Qiskit to cQASM interface seemed a little finnicky.\n",
    "\n",
    "Although we are aware that the repetition code is capable of correcting single bit-flip errors after detection, we did not attempt it here since we were unfamiliar with its implementation on Starmon. Instead, we simply post-selected on the syndrome qubit measurements that yielded zero error during data processing.\n",
    "\n",
    "## The 3-qubit repetition code\n",
    "The 3-qubit repetition code is capable of encoding 1 logical qubit using 3 physical qubits. In the stabilizer formalism, it is defined by the following stabilizers:\n",
    "\\begin{align}\n",
    "    \\mathcal{S} = \\{ Z_1 Z_2, Z_2 Z_3 \\}.\n",
    "\\end{align}\n",
    "\n",
    "The logical qubits are:\n",
    "\\begin{align}\n",
    "    |0\\rangle_L = |000\\rangle, \\qquad |1\\rangle_L &= |111\\rangle,\n",
    "\\end{align}\n",
    "\n",
    "with the logical Pauli operators:\n",
    "    \\begin{align}\n",
    "        X_L &= X_1 X_2 X_3 \\\\\n",
    "        Z_L &= Z_1 \\\\\n",
    "        Y_L &= i X_L Z_L = Y_1 X_2 X_3.\n",
    "    \\end{align}\n",
    "    \n",
    "## Notation\n",
    "In the code, we assign qubits `2`, `3`, `4` as the data qubits that encode the logical qubit. This was motivated by the mapping between Qiskit and Starmon qubit indices such that qubit `3` in Qiskit corresponds to qubit `2` on Starmon. Qubits `0` and `1` are ancillas used in the stabilizer measurements. Henceforth, mathematical formulas will be notated with the same notation as the code."
   ]
  },
  {
   "cell_type": "code",
   "execution_count": 633,
   "id": "acf35926-2020-49fe-80fd-f5b6f6889d2a",
   "metadata": {},
   "outputs": [],
   "source": [
    "import numpy as np\n",
    "import os\n",
    "import matplotlib.pyplot as plt\n",
    "\n",
    "from qiskit.tools.visualization import circuit_drawer, plot_histogram\n",
    "from qiskit import execute, QuantumCircuit, QuantumRegister, ClassicalRegister\n",
    "from qiskit import BasicAer\n",
    "from IPython.display import display, Math, Latex\n",
    "\n",
    "from quantuminspire.credentials import get_authentication\n",
    "from quantuminspire.api import QuantumInspireAPI\n",
    "from quantuminspire.qiskit import QI\n",
    "\n",
    "QI_URL = os.getenv('API_URL', 'https://api.quantum-inspire.com/')\n",
    "\n",
    "# Make a connection to the Quantum Inspire website.\n",
    "authentication = get_authentication()\n",
    "QI.set_authentication(authentication, QI_URL)"
   ]
  },
  {
   "cell_type": "code",
   "execution_count": 651,
   "id": "b3fe5f81-e345-4187-b7a1-6233f4200b72",
   "metadata": {},
   "outputs": [],
   "source": [
    "# Qubits 2, 3, 4 will be used for the 3-qubit repetition code.\n",
    "NQUBITS = 5\n",
    "\n",
    "def prep_ghz(qc):\n",
    "    \"\"\"\n",
    "    Prepares the GHZ state, or logical Bell state.\n",
    "    \"\"\"\n",
    "    qc.h(3)\n",
    "    qc.cx(3, 2)\n",
    "    qc.cx(3, 4)\n",
    "    \n",
    "def prep_rot(qc, theta, phi):\n",
    "    \"\"\"\n",
    "    Prepares a logical state parametrized by the angles theta and phi:\n",
    "    |psi> =  [exp(-i*phi/2) cos(theta/2) |0> + exp(i*phi/2) sin(theta/2) |1>] / sqrt(2)\n",
    "    \"\"\"\n",
    "    qc.ry(theta, 3)\n",
    "    qc.rz(phi, 3)\n",
    "    qc.cx(3, 2)\n",
    "    qc.cx(3, 4)\n",
    "\n",
    "def logical_z(qc):\n",
    "    \"\"\"\n",
    "    Logical Z-gate.\n",
    "    \"\"\"\n",
    "    qc.z(2)\n",
    "    \n",
    "def logical_x(qc):\n",
    "    \"\"\"\n",
    "    Logical X-gate.\n",
    "    \"\"\"\n",
    "    qc.x(2)\n",
    "    qc.x(3)\n",
    "    qc.x(4)\n",
    "    \n",
    "def logical_y(qc):\n",
    "    \"\"\"\n",
    "    Logical Y-gate: Y2.Z3.X4\n",
    "    \"\"\"\n",
    "    qc.y(2)\n",
    "    qc.x(3)\n",
    "    qc.x(4)\n",
    "    \n",
    "def get_syndrome1(qc):\n",
    "    \"\"\"\n",
    "    Stabilizer measurement for Z3.Z4\n",
    "    \"\"\"\n",
    "    qc.h(0)\n",
    "    qc.cz(3, 0)\n",
    "    qc.cz(4, 0)\n",
    "    qc.h(0)\n",
    "    \n",
    "def get_syndrome2(qc):\n",
    "    \"\"\"\n",
    "    Stabilizer measurement for Z2.Z3\n",
    "    \"\"\"\n",
    "    qc.h(1)\n",
    "    qc.cz(2, 1)\n",
    "    qc.cz(3, 1)\n",
    "    qc.h(1)\n",
    "        \n",
    "def measure(qc):\n",
    "    \"\"\"\n",
    "    Measure all qubits.\n",
    "    \"\"\"\n",
    "    c = qc.clbits\n",
    "    for i in range(qc.num_qubits):\n",
    "        qc.measure(i, c[i])"
   ]
  },
  {
   "cell_type": "markdown",
   "id": "df3a201e-7990-48e5-b8e6-b850f5059aa6",
   "metadata": {},
   "source": [
    "# Stabilizer measurements\n",
    "\n",
    "Following Marques et. al., we benchmark the accuracy of each parity measurement by preparing the data qubits in a computational state and measuring the probability of ancilla outcome -1. We calculate the average probability to correctly assign the parity $X_2 X_3 X_4$ and $Z_2$ as a fidelity metric."
   ]
  },
  {
   "cell_type": "code",
   "execution_count": 638,
   "id": "d9b44fee-30f7-42e0-8423-4d05b463cc73",
   "metadata": {},
   "outputs": [],
   "source": [
    "def measure_stabilizer():\n",
    "    \"\"\"\n",
    "    Construct circuit for parity measurement.\n",
    "    \"\"\"\n",
    "    q = QuantumRegister(NQUBITS)\n",
    "    c = ClassicalRegister(NQUBITS)\n",
    "    qc = QuantumCircuit(q, c)\n",
    "    get_syndrome1(qc)\n",
    "    qc.barrier()\n",
    "    get_syndrome2(qc)\n",
    "    qc.barrier()\n",
    "    measure(qc)\n",
    "    return qc"
   ]
  },
  {
   "cell_type": "code",
   "execution_count": 639,
   "id": "31e375d0-8ab2-43eb-8d3b-4a2d60c75b6c",
   "metadata": {},
   "outputs": [
    {
     "data": {
      "text/html": [
       "<pre style=\"word-wrap: normal;white-space: pre;background: #fff0;line-height: 1.1;font-family: &quot;Courier New&quot;,Courier,monospace\">          ┌───┐      ┌───┐ ░                  ░ ┌─┐            \n",
       "q15040_0: ┤ H ├─■──■─┤ H ├─░──────────────────░─┤M├────────────\n",
       "          └───┘ │  │ └───┘ ░ ┌───┐      ┌───┐ ░ └╥┘┌─┐         \n",
       "q15040_1: ──────┼──┼───────░─┤ H ├─■──■─┤ H ├─░──╫─┤M├─────────\n",
       "                │  │       ░ └───┘ │  │ └───┘ ░  ║ └╥┘┌─┐      \n",
       "q15040_2: ──────┼──┼───────░───────■──┼───────░──╫──╫─┤M├──────\n",
       "                │  │       ░          │       ░  ║  ║ └╥┘┌─┐   \n",
       "q15040_3: ──────■──┼───────░──────────■───────░──╫──╫──╫─┤M├───\n",
       "                   │       ░                  ░  ║  ║  ║ └╥┘┌─┐\n",
       "q15040_4: ─────────■───────░──────────────────░──╫──╫──╫──╫─┤M├\n",
       "                           ░                  ░  ║  ║  ║  ║ └╥┘\n",
       " c1330: 5/═══════════════════════════════════════╩══╩══╩══╩══╩═\n",
       "                                                 0  1  2  3  4 </pre>"
      ],
      "text/plain": [
       "          ┌───┐      ┌───┐ ░                  ░ ┌─┐            \n",
       "q15040_0: ┤ H ├─■──■─┤ H ├─░──────────────────░─┤M├────────────\n",
       "          └───┘ │  │ └───┘ ░ ┌───┐      ┌───┐ ░ └╥┘┌─┐         \n",
       "q15040_1: ──────┼──┼───────░─┤ H ├─■──■─┤ H ├─░──╫─┤M├─────────\n",
       "                │  │       ░ └───┘ │  │ └───┘ ░  ║ └╥┘┌─┐      \n",
       "q15040_2: ──────┼──┼───────░───────■──┼───────░──╫──╫─┤M├──────\n",
       "                │  │       ░          │       ░  ║  ║ └╥┘┌─┐   \n",
       "q15040_3: ──────■──┼───────░──────────■───────░──╫──╫──╫─┤M├───\n",
       "                   │       ░                  ░  ║  ║  ║ └╥┘┌─┐\n",
       "q15040_4: ─────────■───────░──────────────────░──╫──╫──╫──╫─┤M├\n",
       "                           ░                  ░  ║  ║  ║  ║ └╥┘\n",
       " c1330: 5/═══════════════════════════════════════╩══╩══╩══╩══╩═\n",
       "                                                 0  1  2  3  4 "
      ]
     },
     "execution_count": 639,
     "metadata": {},
     "output_type": "execute_result"
    }
   ],
   "source": [
    "qc = measure_stabilizer()\n",
    "qc.draw()"
   ]
  },
  {
   "cell_type": "code",
   "execution_count": 640,
   "id": "2e8ce193-3863-4701-80f2-cee19fd16ecb",
   "metadata": {},
   "outputs": [],
   "source": [
    "# Add QI backend.\n",
    "#qi_backend = QI.get_backend('QX single-node simulator')\n",
    "qi_backend = QI.get_backend('Starmon-5')\n",
    "\n",
    "# Execute jobs.\n",
    "runs = 5\n",
    "shots = 1000\n",
    "jobs = []\n",
    "\n",
    "for run in range(runs):\n",
    "    j = execute(qc, backend=qi_backend, shots=shots)\n",
    "    jobs.append(j)"
   ]
  },
  {
   "cell_type": "code",
   "execution_count": 642,
   "id": "1d4a9e13-8eca-49a4-9253-c07374d47de5",
   "metadata": {},
   "outputs": [
    {
     "name": "stdout",
     "output_type": "stream",
     "text": [
      "Run = 0\n",
      "Run = 1\n",
      "Run = 2\n",
      "Run = 3\n",
      "Run = 4\n",
      "fid_s1 = 0.8586\n",
      "fid_s2 = 0.8572\n"
     ]
    }
   ],
   "source": [
    "# Analyze results.\n",
    "s1 = 0\n",
    "s2 = 0\n",
    "\n",
    "for i, j in enumerate(jobs):\n",
    "    result = j.result()\n",
    "    counts = result.get_counts()\n",
    "\n",
    "    for bitstring in counts:\n",
    "        if bitstring[-1] == '0':\n",
    "            s1 += counts[bitstring]\n",
    "\n",
    "        if bitstring[-2] == '0':\n",
    "            s2 += counts[bitstring]\n",
    "\n",
    "    print(f'Run = {i}')\n",
    "    \n",
    "# Compute average probability.\n",
    "fid_s1 = s1 / (shots * runs)\n",
    "fid_s2 = s2 / (shots * runs)\n",
    "\n",
    "print(f'fid_s1 = {fid_s1}')\n",
    "print(f'fid_s2 = {fid_s2}')"
   ]
  },
  {
   "cell_type": "markdown",
   "id": "18ae5317-0929-40f3-8ee6-5ded684d9098",
   "metadata": {},
   "source": [
    "Hence, we find fidelities of **85.7%** and **85.9%** in assigning the correct parity for the stabilizers $Z_2 Z_3$ and $Z_3 Z_4$ respectively."
   ]
  },
  {
   "cell_type": "markdown",
   "id": "fcb5fc58-7070-4252-bd2d-4cbbf7d03829",
   "metadata": {},
   "source": [
    "# Logical measurement of arbitrary states\n",
    "\n",
    "Recall that\n",
    "\\begin{align}\n",
    "    X_L &= X_2 X_3 X_4 \\\\\n",
    "    Z_L &= Z_2 \\\\\n",
    "    Y_L &= iX_L Z_L = Y_2 X_3 X_4.\n",
    "\\end{align}\n",
    "\n",
    "which give the basis states\n",
    "\\begin{align}\n",
    "    Z_L \\text{ basis: } &|0\\rangle_L, |1\\rangle_L\\\\\n",
    "    X_L \\text{ basis: } &|+\\rangle_L = \\frac{1}{\\sqrt{2}} \\left(|0\\rangle_L + |1\\rangle_L\\right) \\\\\n",
    "    &|-\\rangle_L = \\frac{1}{\\sqrt{2}} \\left(|0\\rangle_L - |1\\rangle_L\\right) \\\\\n",
    "    Y_L \\text{ basis: } &|i\\rangle_L = \\frac{1}{\\sqrt{2}} \\left(|0\\rangle_L + i|1\\rangle_L\\right) \\\\\n",
    "    &|-i\\rangle_L = \\frac{1}{\\sqrt{2}} \\left(|0\\rangle_L - i|1\\rangle_L\\right).\n",
    "\\end{align}\n",
    "\n",
    "It is easy to see that to measure $\\langle Z \\rangle_L$, we only need to measure qubit 2 in the $Z$-basis since $Z_2 = Z_L$. To measure $\\langle X \\rangle_L$, notice that for\n",
    "\n",
    "\\begin{align}\n",
    "    |+ \\rangle_L &\\propto |000\\rangle + |111\\rangle \\\\\n",
    "    &= \\left(|+\\rangle + |-\\rangle\\right)\\left(|+\\rangle + |-\\rangle\\right)\\left(|+\\rangle + |-\\rangle\\right) \\\\\n",
    "    &= \\qquad + \\left(|+\\rangle - |-\\rangle\\right)\\left(|+\\rangle - |-\\rangle\\right)\\left(|+\\rangle - |-\\rangle\\right) \\\\\n",
    "    &= |+++\\rangle + |+--\\rangle - |-+-\\rangle + |--+\\rangle \\\\[1em]\n",
    "    |- \\rangle_L &\\propto |000\\rangle - |111\\rangle \\\\\n",
    "    &= \\left(|+\\rangle + |-\\rangle\\right)\\left(|+\\rangle + |-\\rangle\\right)\\left(|+\\rangle + |-\\rangle\\right) \\\\\n",
    "    &= \\qquad - \\left(|+\\rangle - |-\\rangle\\right)\\left(|+\\rangle - |-\\rangle\\right)\\left(|+\\rangle - |-\\rangle\\right) \\\\\n",
    "    &= |++-\\rangle + |+-+\\rangle + |-++\\rangle + |---\\rangle \\\\\n",
    "\\end{align}\n",
    "\n",
    "the product of the $X$-measurement eigenvalues in each qubit is always the correct eigenvalue of $\\langle X \\rangle_L$. If we instead consider\n",
    "\n",
    "\\begin{align}\n",
    "    |0 \\rangle_L &= |000\\rangle \\\\\n",
    "    &= \\frac{1}{\\sqrt{2}} \\left(|+\\rangle_L + |-\\rangle_L\\right) \\\\\n",
    "    &= \\left(|+\\rangle + |-\\rangle\\right)\\left(|+\\rangle + |-\\rangle\\right)\\left(|+\\rangle + |-\\rangle\\right) \\\\\n",
    "    &\\sim \\text{all possible 3-element permutations from the set } \\{+, -\\} \\\\\n",
    "    |1 \\rangle_L &=|111\\rangle \\\\\n",
    "    &= \\frac{1}{\\sqrt{2}} \\left(|+\\rangle_L - |-\\rangle_L\\right) \\\\\n",
    "    &= \\left(|+\\rangle - |-\\rangle\\right)\\left(|+\\rangle - |-\\rangle\\right)\\left(|+\\rangle - |-\\rangle\\right) \\\\\n",
    "    &\\sim \\text{all possible 3-element permutations from the set } \\{+, -\\},\n",
    "\\end{align}\n",
    "\n",
    "the product of the $X$-measurement eigenvalues in each qubit is on average 0, which is what we expect. Thus, we argue that measuring $\\langle X \\rangle_L$ is equivalent to measuring qubits 2, 3, and 4 in the $X$-basis and calculating the product of the measurement eigenvalues.\n",
    "\n",
    "A similar argument can be made for the measurement of $\\langle Y \\rangle_L$. Notice that for\n",
    "\n",
    "\\begin{align}\n",
    "    |i \\rangle_L &\\propto |000\\rangle + i|111\\rangle \\\\\n",
    "    &= \\left(|i\\rangle +|-i\\rangle\\right)\\left(|+\\rangle + |-\\rangle\\right)\\left(|+\\rangle + |-\\rangle\\right) \\\\\n",
    "    &= \\qquad + \\left(|i\\rangle - |-i\\rangle\\right)\\left(|+\\rangle - |-\\rangle\\right)\\left(|+\\rangle - |-\\rangle\\right) \\\\\n",
    "    &= |i++\\rangle + |i--\\rangle + |(-i)+-\\rangle + |(-i)-+\\rangle \\\\[1em]\n",
    "    |-i \\rangle_L &\\propto |000\\rangle - |111\\rangle \\\\\n",
    "    &= \\left(|i\\rangle + |-i\\rangle\\right)\\left(|+\\rangle + |-\\rangle\\right)\\left(|+\\rangle + |-\\rangle\\right) \\\\\n",
    "    &= \\qquad - \\left(|i\\rangle - |-i\\rangle\\right)\\left(|+\\rangle - |-\\rangle\\right)\\left(|+\\rangle - |-\\rangle\\right) \\\\\n",
    "    &= |i+-\\rangle + |i-+\\rangle + |(-i)++\\rangle + |(-i)--\\rangle \\\\\n",
    "\\end{align}\n",
    "\n",
    "the product of a $Y$-measurement eigenvalue on qubit 2 together with $X$-measurement eigenvalues on qubits 3, 4 is always the correct eigenvalue of $\\langle Y \\rangle_L$. If we instead consider\n",
    "\n",
    "\\begin{align}\n",
    "    |0 \\rangle_L &= |000\\rangle \\\\\n",
    "    &= \\frac{1}{\\sqrt{2}} \\left(|i\\rangle_L + |-i\\rangle_L\\right) \\\\\n",
    "    &= \\left(|i\\rangle + |-i\\rangle\\right)\\left(|+\\rangle + |-\\rangle\\right)\\left(|+\\rangle + |-\\rangle\\right) \\\\\n",
    "    &\\sim \\text{all possible 3-element permutations from the sets } \\{i, -i\\}_0 \\otimes \\{+, -\\}_{12} \\\\[1em]\n",
    "    |1 \\rangle_L &=|111\\rangle \\\\\n",
    "    &= \\frac{1}{\\sqrt{2}} \\left(|i\\rangle_L - |-i\\rangle_L\\right) \\\\\n",
    "    &= \\left(|i\\rangle - |-i\\rangle\\right)\\left(|+\\rangle - |-\\rangle\\right)\\left(|+\\rangle - |-\\rangle\\right) \\\\\n",
    "    &\\sim \\text{all possible 3-element permutations from the set } \\{i, -i\\}_0 \\otimes  \\{+, -\\}_{12},\n",
    "\\end{align}\n",
    "\n",
    "the product of the $Y_2X_3X_4$-measurement eigenvalues is on average 0, which is what we expect. Thus, we argue that measuring $\\langle Y \\rangle_L$ is equivalent to measuring qubit 2 in the $Y$-basis, qubits 3,4 in the $X$-basis, and calculating the product of the measurement eigenvalues."
   ]
  },
  {
   "cell_type": "code",
   "execution_count": 617,
   "id": "4975872e-5fbc-481d-a3a2-16a553b7ec29",
   "metadata": {},
   "outputs": [],
   "source": [
    "def prep_measure_logical_z(qc):\n",
    "    \"\"\"\n",
    "    Value of <Z>_L is given by <Z2>.\n",
    "    \"\"\"\n",
    "    return qc\n",
    "        \n",
    "def prep_measure_logical_x(qc):\n",
    "    \"\"\"\n",
    "    Value of <X>_L is given by the product <X2><X3><X4>.\n",
    "    \"\"\"\n",
    "    c = qc.clbits\n",
    "    qc.h(2)\n",
    "    qc.h(3)\n",
    "    qc.h(4)\n",
    "    \n",
    "def prep_measure_logical_y(qc):\n",
    "    \"\"\"\n",
    "    Value of <Y>_L is given by the product <Y2><X3><X4>.\n",
    "    \"\"\"\n",
    "    c = qc.clbits\n",
    "    qc.sdg(2)\n",
    "    qc.h(2)\n",
    "    qc.h(3)\n",
    "    qc.h(4)\n",
    "    \n",
    "def measure_logical_pauli(thetas, phis, op='z'):\n",
    "    \"\"\"\n",
    "    Construct the circuits for logical Pauli measurements.\n",
    "    \"\"\"\n",
    "    circs = []\n",
    "    \n",
    "    for theta in thetas:\n",
    "        circs_theta = []\n",
    "        \n",
    "        for phi in phis:\n",
    "            q = QuantumRegister(NQUBITS)\n",
    "            c = ClassicalRegister(NQUBITS)\n",
    "            qc = QuantumCircuit(q, c)\n",
    "\n",
    "            # Prepare rotated logical state.\n",
    "            prep_rot(qc, theta, phi)\n",
    "            qc.barrier()\n",
    "            \n",
    "            # Measure syndrome.\n",
    "            get_syndrome1(qc)\n",
    "            get_syndrome2(qc)\n",
    "            qc.barrier()\n",
    "            \n",
    "            # Measure logical Paulis.\n",
    "            if op == 'x':\n",
    "                prep_measure_logical_x(qc)\n",
    "                \n",
    "            elif op == 'y':\n",
    "                prep_measure_logical_y(qc)\n",
    "                \n",
    "            elif op == 'z':\n",
    "                prep_measure_logical_z(qc)\n",
    "            \n",
    "            qc.barrier()\n",
    "            measure(qc)\n",
    "            \n",
    "            circs_theta.append(qc)\n",
    "            #print(qc.draw())\n",
    "            \n",
    "        circs.append(circs_theta)\n",
    "\n",
    "    return circs"
   ]
  },
  {
   "cell_type": "markdown",
   "id": "226dc29c-ce3b-48e1-85de-7cadda7703ed",
   "metadata": {},
   "source": [
    "## Test case: initialize the state $|+\\rangle_L$ and measure $\\langle X \\rangle_L$"
   ]
  },
  {
   "cell_type": "code",
   "execution_count": 646,
   "id": "4f65dd7e-857e-4c95-b2bc-95a1221c56ac",
   "metadata": {},
   "outputs": [
    {
     "data": {
      "text/html": [
       "<pre style=\"word-wrap: normal;white-space: pre;background: #fff0;line-height: 1.1;font-family: &quot;Courier New&quot;,Courier,monospace\">                                         ░      ┌─┐            \n",
       "q15150_0: ───────────────────────────────░──────┤M├────────────\n",
       "                                         ░      └╥┘┌─┐         \n",
       "q15150_1: ───────────────────────────────░───────╫─┤M├─────────\n",
       "                              ┌───┐      ░ ┌───┐ ║ └╥┘┌─┐      \n",
       "q15150_2: ────────────────────┤ X ├──────░─┤ H ├─╫──╫─┤M├──────\n",
       "          ┌─────────┐┌───────┐└─┬─┘      ░ ├───┤ ║  ║ └╥┘┌─┐   \n",
       "q15150_3: ┤ Ry(π/2) ├┤ Rz(0) ├──■────■───░─┤ H ├─╫──╫──╫─┤M├───\n",
       "          └─────────┘└───────┘     ┌─┴─┐ ░ ├───┤ ║  ║  ║ └╥┘┌─┐\n",
       "q15150_4: ─────────────────────────┤ X ├─░─┤ H ├─╫──╫──╫──╫─┤M├\n",
       "                                   └───┘ ░ └───┘ ║  ║  ║  ║ └╥┘\n",
       " c1332: 5/═══════════════════════════════════════╩══╩══╩══╩══╩═\n",
       "                                                 0  1  2  3  4 </pre>"
      ],
      "text/plain": [
       "                                         ░      ┌─┐            \n",
       "q15150_0: ───────────────────────────────░──────┤M├────────────\n",
       "                                         ░      └╥┘┌─┐         \n",
       "q15150_1: ───────────────────────────────░───────╫─┤M├─────────\n",
       "                              ┌───┐      ░ ┌───┐ ║ └╥┘┌─┐      \n",
       "q15150_2: ────────────────────┤ X ├──────░─┤ H ├─╫──╫─┤M├──────\n",
       "          ┌─────────┐┌───────┐└─┬─┘      ░ ├───┤ ║  ║ └╥┘┌─┐   \n",
       "q15150_3: ┤ Ry(π/2) ├┤ Rz(0) ├──■────■───░─┤ H ├─╫──╫──╫─┤M├───\n",
       "          └─────────┘└───────┘     ┌─┴─┐ ░ ├───┤ ║  ║  ║ └╥┘┌─┐\n",
       "q15150_4: ─────────────────────────┤ X ├─░─┤ H ├─╫──╫──╫──╫─┤M├\n",
       "                                   └───┘ ░ └───┘ ║  ║  ║  ║ └╥┘\n",
       " c1332: 5/═══════════════════════════════════════╩══╩══╩══╩══╩═\n",
       "                                                 0  1  2  3  4 "
      ]
     },
     "execution_count": 646,
     "metadata": {},
     "output_type": "execute_result"
    }
   ],
   "source": [
    "nqubits = 5\n",
    "q = QuantumRegister(nqubits)\n",
    "c = ClassicalRegister(nqubits)\n",
    "qc = QuantumCircuit(q, c)\n",
    "\n",
    "# Initialize a logical |+> state.\n",
    "theta = np.pi/2\n",
    "phi = 0.\n",
    "prep_rot(qc, theta, phi)\n",
    "qc.barrier()\n",
    "prep_measure_logical_x(qc)\n",
    "measure(qc)\n",
    "qc.draw()"
   ]
  },
  {
   "cell_type": "code",
   "execution_count": 644,
   "id": "65fdbe14-e376-46fc-a0f6-c0554f602b0e",
   "metadata": {},
   "outputs": [],
   "source": [
    "# Add QI backend.\n",
    "qi_backend = QI.get_backend('QX single-node simulator')\n",
    "#qi_backend = QI.get_backend('Starmon-5')\n",
    "\n",
    "# Execute jobs.\n",
    "runs = 1\n",
    "shots = 1000\n",
    "j = execute(qc, backend=qi_backend, shots=shots, noise_model=noise_bit_flip)"
   ]
  },
  {
   "cell_type": "code",
   "execution_count": 645,
   "id": "55fcf1e2-dc82-4b38-9f99-f62229c93afc",
   "metadata": {},
   "outputs": [
    {
     "data": {
      "image/png": "[encoded data removed]",
      "text/plain": [
       "<Figure size 504x360 with 1 Axes>"
      ]
     },
     "execution_count": 645,
     "metadata": {},
     "output_type": "execute_result"
    }
   ],
   "source": [
    "results = j.result()\n",
    "count = results.get_counts()\n",
    "plot_histogram(count)"
   ]
  },
  {
   "cell_type": "markdown",
   "id": "6b340d84-fd8e-4557-9b21-78421f1d56cc",
   "metadata": {},
   "source": [
    "We see that the ancilla qubits are 0 as expected for a perfect execution. We also only obtain a +1 product of all three $X$-basis eigenvalues in qubits `2`-`4`, which is expected for a logical $|+\\rangle_L$ state."
   ]
  },
  {
   "cell_type": "markdown",
   "id": "3286d5e6-0196-46fb-9b94-a26d002aa339",
   "metadata": {},
   "source": [
    "## Simulations\n",
    "\n",
    "We initialize the logical state to \n",
    "\\begin{align}\n",
    "    |\\psi_0\\rangle_L &= e^{-i\\phi/2} \\cos{(\\theta/2)} |0\\rangle_L + e^{i\\phi/2} \\sin{(\\theta/2)} |1\\rangle_L.\n",
    "\\end{align}\n",
    "\n",
    "We then sweep over the equatorial ($\\theta = \\pi/2, \\phi \\in [0, 2\\pi]$) and $xz-$planes ($\\theta = \\in [0, \\pi], \\phi = 0$) while measuring $\\langle X \\rangle_L, \\langle Y \\rangle_L$, and $\\langle Z \\rangle_L$."
   ]
  },
  {
   "cell_type": "code",
   "execution_count": 538,
   "id": "c1a8f533-e914-4de5-9b89-975cc691e636",
   "metadata": {
    "jupyter": {
     "source_hidden": true
    },
    "tags": []
   },
   "outputs": [
    {
     "data": {
      "image/png": "[encoded data removed]",
      "text/plain": [
       "<Figure size 576x360 with 1 Axes>"
      ]
     },
     "metadata": {
      "needs_background": "light"
     },
     "output_type": "display_data"
    }
   ],
   "source": [
    "phis = np.linspace(0., 2*np.pi, 20)\n",
    "sims_eqt = [avg_xs_sim_eqt[0], avg_ys_sim_eqt[0], avg_zs_sim_eqt[0]]\n",
    "labels = ['$\\\\langle X \\\\rangle_L$', '$\\\\langle Y \\\\rangle_L$', '$\\\\langle Z \\\\rangle_L$']\n",
    "\n",
    "fig, ax = plt.subplots(1, 1, figsize=(8, 5))\n",
    "ax.title('Simulation')\n",
    "\n",
    "for i, sim in enumerate(sims_eqt):\n",
    "    plt.plot(phis, sim, label=labels[i], marker='.')\n",
    "    plt.xlabel('Rotation angle $\\\\phi$ (rad)')\n",
    "    plt.ylabel('$\\\\langle O \\\\rangle_L$')\n",
    "\n",
    "plt.grid()\n",
    "plt.legend()\n",
    "plt.tight_layout()"
   ]
  },
  {
   "cell_type": "code",
   "execution_count": 539,
   "id": "05300b90-b7fe-4ced-bf9f-7ea3b8f5fd5b",
   "metadata": {
    "jupyter": {
     "source_hidden": true
    },
    "tags": []
   },
   "outputs": [
    {
     "data": {
      "image/png": "[encoded data removed]",
      "text/plain": [
       "<Figure size 576x360 with 1 Axes>"
      ]
     },
     "metadata": {
      "needs_background": "light"
     },
     "output_type": "display_data"
    }
   ],
   "source": [
    "thetas = np.linspace(0., np.pi, 15)\n",
    "sims = np.array([avg_xs_sim, avg_ys_sim, avg_zs_sim])\n",
    "labels = ['$\\\\langle X \\\\rangle_L$', '$\\\\langle Y \\\\rangle_L$', '$\\\\langle Z \\\\rangle_L$']\n",
    "\n",
    "fig, ax = plt.subplots(1, 1, figsize=(8, 5))\n",
    "ax.title('Simulation')\n",
    "\n",
    "for i, sim in enumerate(sims):\n",
    "    plt.plot(thetas, sim.T[0], label=labels[i], marker='.')\n",
    "    plt.xlabel('Rotation angle $\\\\theta$ (rad)')\n",
    "    plt.ylabel('$\\\\langle O \\\\rangle_L$')\n",
    "\n",
    "plt.grid()\n",
    "plt.legend()\n",
    "plt.tight_layout()"
   ]
  },
  {
   "cell_type": "markdown",
   "id": "13239ada-991c-43b7-b7a5-03ce6148ebc7",
   "metadata": {},
   "source": [
    "Compared thhe Figs 2c and 2e in Marques et al:\n",
    "\n",
    "![fig2](fig2.jpg)"
   ]
  },
  {
   "cell_type": "markdown",
   "id": "7a575993-44c2-439d-a7df-f97f4e5d78f5",
   "metadata": {},
   "source": [
    "## Results from simulations and experiments on Starmon"
   ]
  },
  {
   "cell_type": "code",
   "execution_count": 668,
   "id": "e0f758cf-ff25-4514-93b3-d06a5b78c270",
   "metadata": {
    "jupyter": {
     "source_hidden": true
    },
    "tags": []
   },
   "outputs": [
    {
     "data": {
      "image/png": "[encoded data removed]",
      "text/plain": [
       "<Figure size 720x432 with 1 Axes>"
      ]
     },
     "metadata": {
      "needs_background": "light"
     },
     "output_type": "display_data"
    }
   ],
   "source": [
    "phis = np.linspace(0., 2*np.pi, 20)\n",
    "sims_eqt = [avg_xs_sim_eqt[0], avg_ys_sim_eqt[0], avg_zs_sim_eqt[0]]\n",
    "starmons_eqt = [avg_xs_eqt_starmon[0], avg_ys_eqt_starmon[0], avg_zs_eqt_starmon[0]]\n",
    "colors = ['#1f77b4', '#ff7f0e', '#2ca02c']\n",
    "labels = ['$\\\\langle X \\\\rangle_L$', '$\\\\langle Y \\\\rangle_L$', '$\\\\langle Z \\\\rangle_L$']\n",
    "\n",
    "fig, ax = plt.subplots(1, 1, figsize=(10, 6))\n",
    "ax.set_title('Sim-dashed    Starmon-solid')\n",
    "\n",
    "for i, sim in enumerate(sims_eqt):\n",
    "    plt.plot(phis, sim, color=colors[i], marker='.', ls='--')\n",
    "    plt.plot(phis, starmons_eqt[i], label=labels[i], color=colors[i], marker='.')\n",
    "    plt.xlabel('Rotation angle $\\\\theta$ (rad)')\n",
    "    plt.ylabel('$\\\\langle O \\\\rangle_L$')\n",
    "\n",
    "plt.grid()\n",
    "plt.legend()\n",
    "plt.tight_layout()"
   ]
  },
  {
   "cell_type": "code",
   "execution_count": 666,
   "id": "f25c3676-28d3-48e3-b424-063ad9679675",
   "metadata": {
    "jupyter": {
     "source_hidden": true
    },
    "tags": []
   },
   "outputs": [
    {
     "data": {
      "image/png": "[encoded data removed]",
      "text/plain": [
       "<Figure size 720x432 with 1 Axes>"
      ]
     },
     "metadata": {
      "needs_background": "light"
     },
     "output_type": "display_data"
    }
   ],
   "source": [
    "thetas = np.linspace(0., np.pi, 15)\n",
    "starmons = [avg_xs_starmon, avg_ys_starmon, avg_zs_starmon]\n",
    "sims = [avg_xs_sim, avg_ys_sim, avg_zs_sim]\n",
    "colors = ['#1f77b4', '#ff7f0e', '#2ca02c']\n",
    "labels = ['$\\\\langle X \\\\rangle_L$', '$\\\\langle Y \\\\rangle_L$', '$\\\\langle Z \\\\rangle_L$']\n",
    "\n",
    "fig, ax = plt.subplots(1, 1, figsize=(10, 6))\n",
    "ax.set_title('Sim-dashed    Starmon-solid')\n",
    "\n",
    "for i, sim in enumerate(sims):\n",
    "    plt.plot(thetas, sim, color=colors[i], marker='.', ls='--')\n",
    "    plt.plot(thetas, starmons[i], label=labels[i], color=colors[i], marker='.')\n",
    "    plt.xlabel('Rotation angle $\\\\theta$ (rad)')\n",
    "    plt.ylabel('$\\\\langle O \\\\rangle_L$')\n",
    "\n",
    "plt.grid()\n",
    "plt.legend()\n",
    "plt.tight_layout()"
   ]
  },
  {
   "cell_type": "markdown",
   "id": "fe4a25fd-1a08-4baf-8fbe-80cd36eed8ef",
   "metadata": {},
   "source": [
    "## Experiments\n",
    "## Simulation"
   ]
  },
  {
   "cell_type": "markdown",
   "id": "52ab209f-c370-4192-93a5-12d9b24e4e41",
   "metadata": {},
   "source": [
    "### $\\langle Z \\rangle_L$ measurement"
   ]
  },
  {
   "cell_type": "markdown",
   "id": "b728db98-13cd-41d4-b439-b78668a967f1",
   "metadata": {},
   "source": [
    "### $\\theta = \\pi/2, \\phi \\in [0, 2\\pi]$"
   ]
  },
  {
   "cell_type": "code",
   "execution_count": 509,
   "id": "d878771d-cbf8-47a1-bf07-a095b69c5524",
   "metadata": {
    "jupyter": {
     "source_hidden": true
    },
    "tags": []
   },
   "outputs": [],
   "source": [
    "thetas = [np.pi/2]\n",
    "phis = np.linspace(0., 2*np.pi, 20)\n",
    "circs = measure_logical_pauli(thetas, phis, op='z')"
   ]
  },
  {
   "cell_type": "code",
   "execution_count": 510,
   "id": "a7f4a3f6-32fa-41f1-9b40-b43926aeb084",
   "metadata": {
    "jupyter": {
     "source_hidden": true
    },
    "tags": []
   },
   "outputs": [],
   "source": [
    "# Add QI backend.\n",
    "qi_backend = QI.get_backend('QX single-node simulator')\n",
    "#qi_backend = QI.get_backend('Starmon-5')\n",
    "\n",
    "# Execute jobs.\n",
    "runs = 1\n",
    "shots = 1000\n",
    "jobs = []\n",
    "\n",
    "for circs_theta in circs:\n",
    "    jobs_theta = []\n",
    "    \n",
    "    for circ in circs_theta:\n",
    "        jobs_phi = []\n",
    "        \n",
    "        for run in range(runs):\n",
    "            j = execute(circ, backend=qi_backend, shots=shots)\n",
    "            jobs_phi.append(j)\n",
    "            \n",
    "        jobs_theta.append(jobs_phi)\n",
    "        \n",
    "    jobs.append(jobs_theta)"
   ]
  },
  {
   "cell_type": "code",
   "execution_count": 511,
   "id": "c71b9e2a-bfc2-41e0-beb2-cc28863bf35a",
   "metadata": {},
   "outputs": [],
   "source": [
    "def map_to_pm1(bitstring):\n",
    "    out = np.ones(3)\n",
    "    \n",
    "    for i, bit in enumerate(bitstring):\n",
    "        if bit == '1':\n",
    "            out[i] = -1\n",
    "            \n",
    "    return out"
   ]
  },
  {
   "cell_type": "code",
   "execution_count": 514,
   "id": "4e46722d-7b02-41de-a37a-3f6dc86ebea8",
   "metadata": {
    "collapsed": true,
    "jupyter": {
     "outputs_hidden": true,
     "source_hidden": true
    },
    "tags": []
   },
   "outputs": [
    {
     "name": "stdout",
     "output_type": "stream",
     "text": [
      "theta = 1.5707963267948966, phi = 0.0\n",
      "Run = 0\n",
      "{'00000': 496, '11100': 504}\n",
      "avg_z = -0.008\n",
      "\n",
      "theta = 1.5707963267948966, phi = 0.3306939635357677\n",
      "Run = 0\n",
      "{'00000': 509, '11100': 491}\n",
      "avg_z = 0.018\n",
      "\n",
      "theta = 1.5707963267948966, phi = 0.6613879270715354\n",
      "Run = 0\n",
      "{'00000': 505, '11100': 495}\n",
      "avg_z = 0.01\n",
      "\n",
      "theta = 1.5707963267948966, phi = 0.992081890607303\n",
      "Run = 0\n",
      "{'00000': 505, '11100': 495}\n",
      "avg_z = 0.01\n",
      "\n",
      "theta = 1.5707963267948966, phi = 1.3227758541430708\n",
      "Run = 0\n",
      "{'00000': 523, '11100': 477}\n",
      "avg_z = 0.046\n",
      "\n",
      "theta = 1.5707963267948966, phi = 1.6534698176788385\n",
      "Run = 0\n",
      "{'00000': 476, '11100': 524}\n",
      "avg_z = -0.048\n",
      "\n",
      "theta = 1.5707963267948966, phi = 1.984163781214606\n",
      "Run = 0\n",
      "{'00000': 507, '11100': 493}\n",
      "avg_z = 0.014\n",
      "\n",
      "theta = 1.5707963267948966, phi = 2.3148577447503738\n",
      "Run = 0\n",
      "{'00000': 513, '11100': 487}\n",
      "avg_z = 0.026\n",
      "\n",
      "theta = 1.5707963267948966, phi = 2.6455517082861415\n",
      "Run = 0\n",
      "{'00000': 479, '11100': 521}\n",
      "avg_z = -0.042\n",
      "\n",
      "theta = 1.5707963267948966, phi = 2.9762456718219092\n",
      "Run = 0\n",
      "{'00000': 511, '11100': 489}\n",
      "avg_z = 0.022\n",
      "\n",
      "theta = 1.5707963267948966, phi = 3.306939635357677\n",
      "Run = 0\n",
      "{'00000': 513, '11100': 487}\n",
      "avg_z = 0.026\n",
      "\n",
      "theta = 1.5707963267948966, phi = 3.6376335988934447\n",
      "Run = 0\n",
      "{'00000': 504, '11100': 496}\n",
      "avg_z = 0.008\n",
      "\n",
      "theta = 1.5707963267948966, phi = 3.968327562429212\n",
      "Run = 0\n",
      "{'00000': 511, '11100': 489}\n",
      "avg_z = 0.022\n",
      "\n",
      "theta = 1.5707963267948966, phi = 4.29902152596498\n",
      "Run = 0\n",
      "{'00000': 493, '11100': 507}\n",
      "avg_z = -0.014\n",
      "\n",
      "theta = 1.5707963267948966, phi = 4.6297154895007475\n",
      "Run = 0\n",
      "{'00000': 509, '11100': 491}\n",
      "avg_z = 0.018\n",
      "\n",
      "theta = 1.5707963267948966, phi = 4.960409453036515\n",
      "Run = 0\n",
      "{'00000': 516, '11100': 484}\n",
      "avg_z = 0.032\n",
      "\n",
      "theta = 1.5707963267948966, phi = 5.291103416572283\n",
      "Run = 0\n",
      "{'00000': 489, '11100': 511}\n",
      "avg_z = -0.022\n",
      "\n",
      "theta = 1.5707963267948966, phi = 5.621797380108051\n",
      "Run = 0\n",
      "{'00000': 510, '11100': 490}\n",
      "avg_z = 0.02\n",
      "\n",
      "theta = 1.5707963267948966, phi = 5.9524913436438185\n",
      "Run = 0\n",
      "{'00000': 509, '11100': 491}\n",
      "avg_z = 0.018\n",
      "\n",
      "theta = 1.5707963267948966, phi = 6.283185307179586\n",
      "Run = 0\n",
      "{'00000': 532, '11100': 468}\n",
      "avg_z = 0.064\n",
      "\n"
     ]
    }
   ],
   "source": [
    "# Analyze results.\n",
    "avg_zs_sim_eqt = []\n",
    "\n",
    "for i, jobs_theta in enumerate(jobs):\n",
    "    avg_z_theta = []\n",
    "    \n",
    "    for k, jobs_phi in enumerate(jobs_theta):\n",
    "        print(f'theta = {thetas[i]}, phi = {phis[k]}')\n",
    "        \n",
    "        # Loop over runs.\n",
    "        avg_z_runs = []\n",
    "        for l, j in enumerate(jobs_phi):\n",
    "            result = j.result()\n",
    "            counts = result.get_counts()\n",
    "            plot_histogram(counts)\n",
    "            avg_z = 0\n",
    "            pop = 0\n",
    "            \n",
    "            # In a single run.\n",
    "            for bitstring in counts:\n",
    "                if bitstring[-2:] == '00': # Postselect.\n",
    "                    _bitstring = map_to_pm1(bitstring[:3])\n",
    "                    #print(bitstring)\n",
    "                    #print(_bitstring)\n",
    "                    #print(prod)\n",
    "                    prod = np.prod(_bitstring)\n",
    "                    avg_z += prod * counts[bitstring]\n",
    "                    pop += counts[bitstring]\n",
    "            \n",
    "            avg_z /= pop\n",
    "            avg_z_runs.append(avg_z)\n",
    "            print(f'Run = {l}')\n",
    "            print(counts)\n",
    "            print(f'avg_z = {avg_z}\\n')\n",
    "            \n",
    "        avg_z_theta.append(np.mean(avg_z_runs))\n",
    "    \n",
    "    avg_zs_sim_eqt.append(avg_z_theta)"
   ]
  },
  {
   "cell_type": "code",
   "execution_count": 515,
   "id": "f21fdedb-6fa5-4638-9aeb-c555e59c71cc",
   "metadata": {
    "collapsed": true,
    "jupyter": {
     "outputs_hidden": true
    },
    "tags": []
   },
   "outputs": [
    {
     "data": {
      "text/plain": [
       "[[-0.008,\n",
       "  0.018,\n",
       "  0.01,\n",
       "  0.01,\n",
       "  0.046,\n",
       "  -0.048,\n",
       "  0.014,\n",
       "  0.026,\n",
       "  -0.042,\n",
       "  0.022,\n",
       "  0.026,\n",
       "  0.008,\n",
       "  0.022,\n",
       "  -0.014,\n",
       "  0.018,\n",
       "  0.032,\n",
       "  -0.022,\n",
       "  0.02,\n",
       "  0.018,\n",
       "  0.064]]"
      ]
     },
     "execution_count": 515,
     "metadata": {},
     "output_type": "execute_result"
    }
   ],
   "source": [
    "avg_zs_sim_eqt"
   ]
  },
  {
   "cell_type": "markdown",
   "id": "1a15ac08-aa9d-4297-81ba-3f2a70d5a8c5",
   "metadata": {
    "tags": []
   },
   "source": [
    "### $\\theta \\in [0, \\pi], \\phi = 0$"
   ]
  },
  {
   "cell_type": "code",
   "execution_count": 516,
   "id": "eb95cd9f-3b73-419c-9177-0e32e26b46d0",
   "metadata": {
    "jupyter": {
     "source_hidden": true
    },
    "tags": []
   },
   "outputs": [],
   "source": [
    "thetas = np.linspace(0., np.pi, 15)\n",
    "phis = [0.]\n",
    "circs = measure_logical_pauli(thetas, phis, op='z')"
   ]
  },
  {
   "cell_type": "code",
   "execution_count": 517,
   "id": "833b2335-1d49-4202-a7a1-271d2ecc8b29",
   "metadata": {
    "jupyter": {
     "source_hidden": true
    },
    "tags": []
   },
   "outputs": [],
   "source": [
    "# Add QI backend.\n",
    "qi_backend = QI.get_backend('QX single-node simulator')\n",
    "#qi_backend = QI.get_backend('Starmon-5')\n",
    "\n",
    "# Execute jobs.\n",
    "runs = 1\n",
    "shots = 1000\n",
    "jobs = []\n",
    "\n",
    "for circs_theta in circs:\n",
    "    jobs_theta = []\n",
    "    \n",
    "    for circ in circs_theta:\n",
    "        jobs_phi = []\n",
    "        \n",
    "        for run in range(runs):\n",
    "            j = execute(circ, backend=qi_backend, shots=shots)\n",
    "            jobs_phi.append(j)\n",
    "            \n",
    "        jobs_theta.append(jobs_phi)\n",
    "        \n",
    "    jobs.append(jobs_theta)"
   ]
  },
  {
   "cell_type": "code",
   "execution_count": 518,
   "id": "ae9a79c4-7826-4daa-9f8e-c3d8bd1e8cf9",
   "metadata": {
    "collapsed": true,
    "jupyter": {
     "outputs_hidden": true,
     "source_hidden": true
    },
    "tags": []
   },
   "outputs": [
    {
     "name": "stdout",
     "output_type": "stream",
     "text": [
      "theta = 0.0, phi = 0.0\n",
      "Run = 0\n",
      "{'00000': 1000}\n",
      "avg_z = 1.0\n",
      "\n",
      "theta = 0.2243994752564138, phi = 0.0\n",
      "Run = 0\n",
      "{'00000': 992, '11100': 8}\n",
      "avg_z = 0.984\n",
      "\n",
      "theta = 0.4487989505128276, phi = 0.0\n",
      "Run = 0\n",
      "{'00000': 947, '11100': 53}\n",
      "avg_z = 0.894\n",
      "\n",
      "theta = 0.6731984257692414, phi = 0.0\n",
      "Run = 0\n",
      "{'00000': 882, '11100': 118}\n",
      "avg_z = 0.764\n",
      "\n",
      "theta = 0.8975979010256552, phi = 0.0\n",
      "Run = 0\n",
      "{'00000': 813, '11100': 187}\n",
      "avg_z = 0.626\n",
      "\n",
      "theta = 1.121997376282069, phi = 0.0\n",
      "Run = 0\n",
      "{'00000': 704, '11100': 296}\n",
      "avg_z = 0.408\n",
      "\n",
      "theta = 1.3463968515384828, phi = 0.0\n",
      "Run = 0\n",
      "{'00000': 609, '11100': 391}\n",
      "avg_z = 0.218\n",
      "\n",
      "theta = 1.5707963267948966, phi = 0.0\n",
      "Run = 0\n",
      "{'00000': 503, '11100': 497}\n",
      "avg_z = 0.006\n",
      "\n",
      "theta = 1.7951958020513104, phi = 0.0\n",
      "Run = 0\n",
      "{'00000': 384, '11100': 616}\n",
      "avg_z = -0.232\n",
      "\n",
      "theta = 2.019595277307724, phi = 0.0\n",
      "Run = 0\n",
      "{'00000': 273, '11100': 727}\n",
      "avg_z = -0.454\n",
      "\n",
      "theta = 2.243994752564138, phi = 0.0\n",
      "Run = 0\n",
      "{'00000': 197, '11100': 803}\n",
      "avg_z = -0.606\n",
      "\n",
      "theta = 2.4683942278205517, phi = 0.0\n",
      "Run = 0\n",
      "{'00000': 118, '11100': 882}\n",
      "avg_z = -0.764\n",
      "\n",
      "theta = 2.6927937030769655, phi = 0.0\n",
      "Run = 0\n",
      "{'00000': 45, '11100': 955}\n",
      "avg_z = -0.91\n",
      "\n",
      "theta = 2.9171931783333793, phi = 0.0\n",
      "Run = 0\n",
      "{'00000': 11, '11100': 989}\n",
      "avg_z = -0.978\n",
      "\n",
      "theta = 3.141592653589793, phi = 0.0\n",
      "Run = 0\n",
      "{'11100': 1000}\n",
      "avg_z = -1.0\n",
      "\n"
     ]
    }
   ],
   "source": [
    "# Analyze results.\n",
    "avg_zs_sim = []\n",
    "\n",
    "for i, jobs_theta in enumerate(jobs):\n",
    "    avg_z_theta = []\n",
    "    \n",
    "    for k, jobs_phi in enumerate(jobs_theta):\n",
    "        print(f'theta = {thetas[i]}, phi = {phis[k]}')\n",
    "        \n",
    "        # Loop over runs.\n",
    "        avg_z_runs = []\n",
    "        for l, j in enumerate(jobs_phi):\n",
    "            result = j.result()\n",
    "            counts = result.get_counts()\n",
    "            plot_histogram(counts)\n",
    "            avg_z = 0\n",
    "            pop = 0\n",
    "            \n",
    "            # In a single run.\n",
    "            for bitstring in counts:\n",
    "                if bitstring[-2:] == '00': # Postselect.\n",
    "                    _bitstring = map_to_pm1(bitstring[:3])\n",
    "                    #print(bitstring)\n",
    "                    #print(_bitstring)\n",
    "                    #print(prod)\n",
    "                    prod = np.prod(_bitstring)\n",
    "                    avg_z += prod * counts[bitstring]\n",
    "                    pop += counts[bitstring]\n",
    "            \n",
    "            avg_z /= pop\n",
    "            avg_z_runs.append(avg_z)\n",
    "            print(f'Run = {l}')\n",
    "            print(counts)\n",
    "            print(f'avg_z = {avg_z}\\n')\n",
    "            \n",
    "        avg_z_theta.append(np.mean(avg_z_runs))\n",
    "    \n",
    "    avg_zs_sim.append(avg_z_theta)"
   ]
  },
  {
   "cell_type": "code",
   "execution_count": 519,
   "id": "ee71400f-949f-48eb-abce-1fa56177632c",
   "metadata": {
    "collapsed": true,
    "jupyter": {
     "outputs_hidden": true
    },
    "tags": []
   },
   "outputs": [
    {
     "data": {
      "text/plain": [
       "[[1.0],\n",
       " [0.984],\n",
       " [0.894],\n",
       " [0.764],\n",
       " [0.626],\n",
       " [0.408],\n",
       " [0.218],\n",
       " [0.006],\n",
       " [-0.232],\n",
       " [-0.454],\n",
       " [-0.606],\n",
       " [-0.764],\n",
       " [-0.91],\n",
       " [-0.978],\n",
       " [-1.0]]"
      ]
     },
     "execution_count": 519,
     "metadata": {},
     "output_type": "execute_result"
    }
   ],
   "source": [
    "avg_zs_sim"
   ]
  },
  {
   "cell_type": "markdown",
   "id": "9945ed57-bc79-4833-a878-0d44045c519c",
   "metadata": {},
   "source": [
    "### $\\langle X \\rangle_L$ measurement"
   ]
  },
  {
   "cell_type": "markdown",
   "id": "2aa2858f-770c-4aa4-9006-24fa4cd732ea",
   "metadata": {},
   "source": [
    "### $\\theta = \\pi/2, \\phi \\in [0, 2\\pi]$"
   ]
  },
  {
   "cell_type": "code",
   "execution_count": 500,
   "id": "c125ee15-6f46-4f17-9167-e589ede4eaf6",
   "metadata": {
    "jupyter": {
     "source_hidden": true
    },
    "tags": []
   },
   "outputs": [],
   "source": [
    "thetas = [np.pi/2]\n",
    "phis = np.linspace(0., 2*np.pi, 20)\n",
    "circs = measure_logical_pauli(thetas, phis, op='x')"
   ]
  },
  {
   "cell_type": "code",
   "execution_count": 501,
   "id": "400039f4-5c78-458f-a1cf-c0b03e0cad38",
   "metadata": {
    "jupyter": {
     "source_hidden": true
    },
    "tags": []
   },
   "outputs": [],
   "source": [
    "# Add QI backend.\n",
    "qi_backend = QI.get_backend('QX single-node simulator')\n",
    "#qi_backend = QI.get_backend('Starmon-5')\n",
    "\n",
    "# Execute jobs.\n",
    "runs = 1\n",
    "shots = 1000\n",
    "jobs = []\n",
    "\n",
    "for circs_theta in circs:\n",
    "    jobs_theta = []\n",
    "    \n",
    "    for circ in circs_theta:\n",
    "        jobs_phi = []\n",
    "        \n",
    "        for run in range(runs):\n",
    "            j = execute(circ, backend=qi_backend, shots=shots)\n",
    "            jobs_phi.append(j)\n",
    "            \n",
    "        jobs_theta.append(jobs_phi)\n",
    "        \n",
    "    jobs.append(jobs_theta)"
   ]
  },
  {
   "cell_type": "code",
   "execution_count": 502,
   "id": "b03cb678-f3a6-4cce-a251-2d773add2756",
   "metadata": {
    "collapsed": true,
    "jupyter": {
     "outputs_hidden": true,
     "source_hidden": true
    },
    "tags": []
   },
   "outputs": [
    {
     "name": "stdout",
     "output_type": "stream",
     "text": [
      "theta = 1.5707963267948966, phi = 0.0\n",
      "Run = 0\n",
      "{'00000': 232, '01100': 261, '10100': 254, '11000': 253}\n",
      "avg_x = 1.0\n",
      "\n",
      "theta = 1.5707963267948966, phi = 0.3306939635357677\n",
      "Run = 0\n",
      "{'00000': 246, '00100': 9, '01000': 2, '01100': 250, '10000': 3, '10100': 222, '11000': 264, '11100': 4}\n",
      "avg_x = 0.964\n",
      "\n",
      "theta = 1.5707963267948966, phi = 0.6613879270715354\n",
      "Run = 0\n",
      "{'00000': 219, '00100': 28, '01000': 23, '01100': 234, '10000': 30, '10100': 229, '11000': 217, '11100': 20}\n",
      "avg_x = 0.798\n",
      "\n",
      "theta = 1.5707963267948966, phi = 0.992081890607303\n",
      "Run = 0\n",
      "{'00000': 179, '00100': 51, '01000': 59, '01100': 190, '10000': 51, '10100': 187, '11000': 215, '11100': 68}\n",
      "avg_x = 0.542\n",
      "\n",
      "theta = 1.5707963267948966, phi = 1.3227758541430708\n",
      "Run = 0\n",
      "{'00000': 141, '00100': 92, '01000': 113, '01100': 158, '10000': 96, '10100': 168, '11000': 142, '11100': 90}\n",
      "avg_x = 0.218\n",
      "\n",
      "theta = 1.5707963267948966, phi = 1.6534698176788385\n",
      "Run = 0\n",
      "{'00000': 103, '00100': 117, '01000': 122, '01100': 126, '10000': 136, '10100': 118, '11000': 134, '11100': 144}\n",
      "avg_x = -0.038\n",
      "\n",
      "theta = 1.5707963267948966, phi = 1.984163781214606\n",
      "Run = 0\n",
      "{'00000': 76, '00100': 176, '01000': 174, '01100': 82, '10000': 166, '10100': 83, '11000': 54, '11100': 189}\n",
      "avg_x = -0.41\n",
      "\n",
      "theta = 1.5707963267948966, phi = 2.3148577447503738\n",
      "Run = 0\n",
      "{'00000': 41, '00100': 230, '01000': 209, '01100': 43, '10000': 227, '10100': 38, '11000': 32, '11100': 180}\n",
      "avg_x = -0.692\n",
      "\n",
      "theta = 1.5707963267948966, phi = 2.6455517082861415\n",
      "Run = 0\n",
      "{'00000': 17, '00100': 230, '01000': 236, '01100': 12, '10000': 245, '10100': 13, '11000': 13, '11100': 234}\n",
      "avg_x = -0.89\n",
      "\n",
      "theta = 1.5707963267948966, phi = 2.9762456718219092\n",
      "Run = 0\n",
      "{'00000': 1, '00100': 250, '01000': 238, '01100': 2, '10000': 273, '10100': 2, '11000': 2, '11100': 232}\n",
      "avg_x = -0.986\n",
      "\n",
      "theta = 1.5707963267948966, phi = 3.306939635357677\n",
      "Run = 0\n",
      "{'00100': 264, '01000': 248, '01100': 3, '10000': 254, '10100': 1, '11000': 1, '11100': 229}\n",
      "avg_x = -0.99\n",
      "\n",
      "theta = 1.5707963267948966, phi = 3.6376335988934447\n",
      "Run = 0\n",
      "{'00000': 18, '00100': 219, '01000': 228, '01100': 26, '10000': 229, '10100': 20, '11000': 15, '11100': 245}\n",
      "avg_x = -0.842\n",
      "\n",
      "theta = 1.5707963267948966, phi = 3.968327562429212\n",
      "Run = 0\n",
      "{'00000': 37, '00100': 201, '01000': 195, '01100': 53, '10000': 222, '10100': 39, '11000': 41, '11100': 212}\n",
      "avg_x = -0.66\n",
      "\n",
      "theta = 1.5707963267948966, phi = 4.29902152596498\n",
      "Run = 0\n",
      "{'00000': 77, '00100': 169, '01000': 159, '01100': 73, '10000': 181, '10100': 67, '11000': 78, '11100': 196}\n",
      "avg_x = -0.41\n",
      "\n",
      "theta = 1.5707963267948966, phi = 4.6297154895007475\n",
      "Run = 0\n",
      "{'00000': 99, '00100': 150, '01000': 124, '01100': 101, '10000': 118, '10100': 127, '11000': 127, '11100': 154}\n",
      "avg_x = -0.092\n",
      "\n",
      "theta = 1.5707963267948966, phi = 4.960409453036515\n",
      "Run = 0\n",
      "{'00000': 151, '00100': 103, '01000': 96, '01100': 137, '10000': 99, '10100': 160, '11000': 162, '11100': 92}\n",
      "avg_x = 0.22\n",
      "\n",
      "theta = 1.5707963267948966, phi = 5.291103416572283\n",
      "Run = 0\n",
      "{'00000': 190, '00100': 51, '01000': 49, '01100': 191, '10000': 61, '10100': 222, '11000': 180, '11100': 56}\n",
      "avg_x = 0.566\n",
      "\n",
      "theta = 1.5707963267948966, phi = 5.621797380108051\n",
      "Run = 0\n",
      "{'00000': 198, '00100': 24, '01000': 31, '01100': 240, '10000': 26, '10100': 230, '11000': 221, '11100': 30}\n",
      "avg_x = 0.778\n",
      "\n",
      "theta = 1.5707963267948966, phi = 5.9524913436438185\n",
      "Run = 0\n",
      "{'00000': 245, '00100': 8, '01000': 4, '01100': 218, '10000': 6, '10100': 268, '11000': 245, '11100': 6}\n",
      "avg_x = 0.952\n",
      "\n",
      "theta = 1.5707963267948966, phi = 6.283185307179586\n",
      "Run = 0\n",
      "{'00000': 272, '01100': 257, '10100': 241, '11000': 230}\n",
      "avg_x = 1.0\n",
      "\n"
     ]
    }
   ],
   "source": [
    "# Analyze results.\n",
    "avg_xs_sim_eqt = []\n",
    "\n",
    "for i, jobs_theta in enumerate(jobs):\n",
    "    avg_theta = []\n",
    "    \n",
    "    for k, jobs_phi in enumerate(jobs_theta):\n",
    "        print(f'theta = {thetas[i]}, phi = {phis[k]}')\n",
    "        \n",
    "        # Loop over runs.\n",
    "        avg_runs = []\n",
    "        for l, j in enumerate(jobs_phi):\n",
    "            result = j.result()\n",
    "            counts = result.get_counts()\n",
    "            plot_histogram(counts)\n",
    "            avg = 0\n",
    "            pop = 0\n",
    "            \n",
    "            # In a single run.\n",
    "            for bitstring in counts:\n",
    "                if bitstring[-2:] == '00': # Postselect.\n",
    "                    _bitstring = map_to_pm1(bitstring[:3])\n",
    "                    #print(bitstring)\n",
    "                    #print(_bitstring)\n",
    "                    #print(prod)\n",
    "                    prod = np.prod(_bitstring)\n",
    "                    avg += prod * counts[bitstring]\n",
    "                    pop += counts[bitstring]\n",
    "            \n",
    "            avg /= pop\n",
    "            avg_runs.append(avg)\n",
    "            print(f'Run = {l}')\n",
    "            print(counts)\n",
    "            print(f'avg_x = {avg}\\n')\n",
    "            \n",
    "        avg_theta.append(np.mean(avg_runs))\n",
    "    \n",
    "    avg_xs_sim_eqt.append(avg_theta)"
   ]
  },
  {
   "cell_type": "code",
   "execution_count": 503,
   "id": "60f01f0c-a3cb-48f0-8d94-8cfbdc7a3989",
   "metadata": {
    "collapsed": true,
    "jupyter": {
     "outputs_hidden": true
    },
    "tags": []
   },
   "outputs": [
    {
     "data": {
      "text/plain": [
       "[[1.0,\n",
       "  0.964,\n",
       "  0.798,\n",
       "  0.542,\n",
       "  0.218,\n",
       "  -0.038,\n",
       "  -0.41,\n",
       "  -0.692,\n",
       "  -0.89,\n",
       "  -0.986,\n",
       "  -0.99,\n",
       "  -0.842,\n",
       "  -0.66,\n",
       "  -0.41,\n",
       "  -0.092,\n",
       "  0.22,\n",
       "  0.566,\n",
       "  0.778,\n",
       "  0.952,\n",
       "  1.0]]"
      ]
     },
     "execution_count": 503,
     "metadata": {},
     "output_type": "execute_result"
    }
   ],
   "source": [
    "avg_xs_sim_eqt"
   ]
  },
  {
   "cell_type": "markdown",
   "id": "bdf97cbc-176d-488b-a78d-a3d0b19b9a78",
   "metadata": {
    "tags": []
   },
   "source": [
    "### $\\theta \\in [0, \\pi], \\phi = 0$"
   ]
  },
  {
   "cell_type": "code",
   "execution_count": 520,
   "id": "73e81b41-8684-4c7d-86dd-5ff136cc5f22",
   "metadata": {
    "jupyter": {
     "source_hidden": true
    },
    "tags": []
   },
   "outputs": [],
   "source": [
    "thetas = np.linspace(0., np.pi, 15)\n",
    "phis = [0.]\n",
    "circs = measure_logical_pauli(thetas, phis, op='x')"
   ]
  },
  {
   "cell_type": "code",
   "execution_count": 521,
   "id": "78487b59-726b-4c50-beb1-6684d282a606",
   "metadata": {
    "jupyter": {
     "source_hidden": true
    },
    "tags": []
   },
   "outputs": [],
   "source": [
    "# Add QI backend.\n",
    "qi_backend = QI.get_backend('QX single-node simulator')\n",
    "#qi_backend = QI.get_backend('Starmon-5')\n",
    "\n",
    "# Execute jobs.\n",
    "runs = 1\n",
    "shots = 1000\n",
    "jobs = []\n",
    "\n",
    "for circs_theta in circs:\n",
    "    jobs_theta = []\n",
    "    \n",
    "    for circ in circs_theta:\n",
    "        jobs_phi = []\n",
    "        \n",
    "        for run in range(runs):\n",
    "            j = execute(circ, backend=qi_backend, shots=shots)\n",
    "            jobs_phi.append(j)\n",
    "            \n",
    "        jobs_theta.append(jobs_phi)\n",
    "        \n",
    "    jobs.append(jobs_theta)"
   ]
  },
  {
   "cell_type": "code",
   "execution_count": 522,
   "id": "2989e671-8e49-4cf3-88c9-a21c820d99aa",
   "metadata": {
    "collapsed": true,
    "jupyter": {
     "outputs_hidden": true,
     "source_hidden": true
    },
    "tags": []
   },
   "outputs": [
    {
     "name": "stdout",
     "output_type": "stream",
     "text": [
      "theta = 0.0, phi = 0.0\n",
      "Run = 0\n",
      "{'00000': 129, '00100': 140, '01000': 117, '01100': 131, '10000': 123, '10100': 131, '11000': 109, '11100': 120}\n",
      "avg_z = 0.0\n",
      "\n",
      "theta = 0.2243994752564138, phi = 0.0\n",
      "Run = 0\n",
      "{'00000': 138, '00100': 84, '01000': 115, '01100': 174, '10000': 115, '10100': 149, '11000': 130, '11100': 95}\n",
      "avg_z = 0.182\n",
      "\n",
      "theta = 0.4487989505128276, phi = 0.0\n",
      "Run = 0\n",
      "{'00000': 168, '00100': 76, '01000': 80, '01100': 191, '10000': 69, '10100': 184, '11000': 161, '11100': 71}\n",
      "avg_z = 0.408\n",
      "\n",
      "theta = 0.6731984257692414, phi = 0.0\n",
      "Run = 0\n",
      "{'00000': 172, '00100': 52, '01000': 46, '01100': 211, '10000': 57, '10100': 202, '11000': 208, '11100': 52}\n",
      "avg_z = 0.586\n",
      "\n",
      "theta = 0.8975979010256552, phi = 0.0\n",
      "Run = 0\n",
      "{'00000': 208, '00100': 21, '01000': 24, '01100': 238, '10000': 33, '10100': 220, '11000': 226, '11100': 30}\n",
      "avg_z = 0.784\n",
      "\n",
      "theta = 1.121997376282069, phi = 0.0\n",
      "Run = 0\n",
      "{'00000': 227, '00100': 16, '01000': 14, '01100': 218, '10000': 20, '10100': 231, '11000': 263, '11100': 11}\n",
      "avg_z = 0.878\n",
      "\n",
      "theta = 1.3463968515384828, phi = 0.0\n",
      "Run = 0\n",
      "{'00000': 236, '00100': 1, '01000': 3, '01100': 258, '10000': 1, '10100': 240, '11000': 258, '11100': 3}\n",
      "avg_z = 0.984\n",
      "\n",
      "theta = 1.5707963267948966, phi = 0.0\n",
      "Run = 0\n",
      "{'00000': 247, '01100': 241, '10100': 236, '11000': 276}\n",
      "avg_z = 1.0\n",
      "\n",
      "theta = 1.7951958020513104, phi = 0.0\n",
      "Run = 0\n",
      "{'00000': 245, '00100': 6, '01000': 4, '01100': 259, '10000': 2, '10100': 222, '11000': 262}\n",
      "avg_z = 0.976\n",
      "\n",
      "theta = 2.019595277307724, phi = 0.0\n",
      "Run = 0\n",
      "{'00000': 237, '00100': 16, '01000': 23, '01100': 220, '10000': 10, '10100': 251, '11000': 233, '11100': 10}\n",
      "avg_z = 0.882\n",
      "\n",
      "theta = 2.243994752564138, phi = 0.0\n",
      "Run = 0\n",
      "{'00000': 246, '00100': 31, '01000': 34, '01100': 203, '10000': 22, '10100': 229, '11000': 216, '11100': 19}\n",
      "avg_z = 0.788\n",
      "\n",
      "theta = 2.4683942278205517, phi = 0.0\n",
      "Run = 0\n",
      "{'00000': 204, '00100': 49, '01000': 54, '01100': 205, '10000': 45, '10100': 203, '11000': 191, '11100': 49}\n",
      "avg_z = 0.606\n",
      "\n",
      "theta = 2.6927937030769655, phi = 0.0\n",
      "Run = 0\n",
      "{'00000': 178, '00100': 64, '01000': 78, '01100': 178, '10000': 71, '10100': 168, '11000': 185, '11100': 78}\n",
      "avg_z = 0.418\n",
      "\n",
      "theta = 2.9171931783333793, phi = 0.0\n",
      "Run = 0\n",
      "{'00000': 171, '00100': 108, '01000': 92, '01100': 138, '10000': 101, '10100': 159, '11000': 127, '11100': 104}\n",
      "avg_z = 0.19\n",
      "\n",
      "theta = 3.141592653589793, phi = 0.0\n",
      "Run = 0\n",
      "{'00000': 123, '00100': 130, '01000': 113, '01100': 126, '10000': 123, '10100': 131, '11000': 122, '11100': 132}\n",
      "avg_z = 0.004\n",
      "\n"
     ]
    }
   ],
   "source": [
    "# Analyze results.\n",
    "avg_xs_sim = []\n",
    "\n",
    "for i, jobs_theta in enumerate(jobs):\n",
    "    avg_theta = []\n",
    "    \n",
    "    for k, jobs_phi in enumerate(jobs_theta):\n",
    "        print(f'theta = {thetas[i]}, phi = {phis[k]}')\n",
    "        \n",
    "        # Loop over runs.\n",
    "        avg_runs = []\n",
    "        for l, j in enumerate(jobs_phi):\n",
    "            result = j.result()\n",
    "            counts = result.get_counts()\n",
    "            plot_histogram(counts)\n",
    "            avg = 0\n",
    "            pop = 0\n",
    "            \n",
    "            # In a single run.\n",
    "            for bitstring in counts:\n",
    "                if bitstring[-2:] == '00': # Postselect.\n",
    "                    _bitstring = map_to_pm1(bitstring[:3])\n",
    "                    #print(bitstring)\n",
    "                    #print(_bitstring)\n",
    "                    #print(prod)\n",
    "                    prod = np.prod(_bitstring)\n",
    "                    avg += prod * counts[bitstring]\n",
    "                    pop += counts[bitstring]\n",
    "            \n",
    "            avg /= pop\n",
    "            avg_runs.append(avg)\n",
    "            print(f'Run = {l}')\n",
    "            print(counts)\n",
    "            print(f'avg_x = {avg}\\n')\n",
    "            \n",
    "        avg_theta.append(np.mean(avg_runs))\n",
    "    \n",
    "    avg_xs_sim.append(avg_theta)"
   ]
  },
  {
   "cell_type": "code",
   "execution_count": 523,
   "id": "2b6b7fff-1d65-497d-95eb-91725335ac46",
   "metadata": {
    "collapsed": true,
    "jupyter": {
     "outputs_hidden": true
    },
    "tags": []
   },
   "outputs": [
    {
     "data": {
      "text/plain": [
       "[[0.0],\n",
       " [0.182],\n",
       " [0.408],\n",
       " [0.586],\n",
       " [0.784],\n",
       " [0.878],\n",
       " [0.984],\n",
       " [1.0],\n",
       " [0.976],\n",
       " [0.882],\n",
       " [0.788],\n",
       " [0.606],\n",
       " [0.418],\n",
       " [0.19],\n",
       " [0.004]]"
      ]
     },
     "execution_count": 523,
     "metadata": {},
     "output_type": "execute_result"
    }
   ],
   "source": [
    "avg_xs_sim"
   ]
  },
  {
   "cell_type": "markdown",
   "id": "98b22b98-a7b4-4ed7-89bf-3e56411cdf94",
   "metadata": {},
   "source": [
    "### $\\langle Y \\rangle_L$ measurement"
   ]
  },
  {
   "cell_type": "markdown",
   "id": "adac54e6-075c-44b4-b63e-7554f9033cdb",
   "metadata": {},
   "source": [
    "### $\\theta = \\pi/2, \\phi \\in [0, 2\\pi]$"
   ]
  },
  {
   "cell_type": "code",
   "execution_count": 504,
   "id": "51f20e56-a07f-48f6-90d8-71d8d2eba974",
   "metadata": {
    "jupyter": {
     "source_hidden": true
    },
    "tags": []
   },
   "outputs": [],
   "source": [
    "thetas = [np.pi/2]\n",
    "phis = np.linspace(0., 2*np.pi, 20)\n",
    "circs = measure_logical_pauli(thetas, phis, op='y')"
   ]
  },
  {
   "cell_type": "code",
   "execution_count": 505,
   "id": "78130027-9446-4f57-99dd-f64adb11d253",
   "metadata": {
    "jupyter": {
     "source_hidden": true
    },
    "tags": []
   },
   "outputs": [],
   "source": [
    "# Add QI backend.\n",
    "qi_backend = QI.get_backend('QX single-node simulator')\n",
    "#qi_backend = QI.get_backend('Starmon-5')\n",
    "\n",
    "# Execute jobs.\n",
    "runs = 1\n",
    "shots = 1000\n",
    "jobs = []\n",
    "\n",
    "for circs_theta in circs:\n",
    "    jobs_theta = []\n",
    "    \n",
    "    for circ in circs_theta:\n",
    "        jobs_phi = []\n",
    "        \n",
    "        for run in range(runs):\n",
    "            j = execute(circ, backend=qi_backend, shots=shots)\n",
    "            jobs_phi.append(j)\n",
    "            \n",
    "        jobs_theta.append(jobs_phi)\n",
    "        \n",
    "    jobs.append(jobs_theta)"
   ]
  },
  {
   "cell_type": "code",
   "execution_count": 507,
   "id": "7f53cbbf-ace1-4e16-9860-b69bc26152d7",
   "metadata": {
    "collapsed": true,
    "jupyter": {
     "outputs_hidden": true,
     "source_hidden": true
    },
    "tags": []
   },
   "outputs": [
    {
     "name": "stdout",
     "output_type": "stream",
     "text": [
      "theta = 1.5707963267948966, phi = 0.0\n",
      "Run = 0\n",
      "{'00000': 105, '00100': 106, '01000': 136, '01100': 118, '10000': 115, '10100': 132, '11000': 143, '11100': 145}\n",
      "avg_x = -0.004\n",
      "\n",
      "theta = 1.5707963267948966, phi = 0.3306939635357677\n",
      "Run = 0\n",
      "{'00000': 155, '00100': 91, '01000': 87, '01100': 181, '10000': 88, '10100': 169, '11000': 152, '11100': 77}\n",
      "avg_x = 0.314\n",
      "\n",
      "theta = 1.5707963267948966, phi = 0.6613879270715354\n",
      "Run = 0\n",
      "{'00000': 212, '00100': 58, '01000': 36, '01100': 197, '10000': 34, '10100': 202, '11000': 208, '11100': 53}\n",
      "avg_x = 0.638\n",
      "\n",
      "theta = 1.5707963267948966, phi = 0.992081890607303\n",
      "Run = 0\n",
      "{'00000': 234, '00100': 17, '01000': 15, '01100': 249, '10000': 24, '10100': 229, '11000': 215, '11100': 17}\n",
      "avg_x = 0.854\n",
      "\n",
      "theta = 1.5707963267948966, phi = 1.3227758541430708\n",
      "Run = 0\n",
      "{'00000': 263, '00100': 7, '01000': 6, '01100': 230, '10000': 5, '10100': 230, '11000': 259}\n",
      "avg_x = 0.964\n",
      "\n",
      "theta = 1.5707963267948966, phi = 1.6534698176788385\n",
      "Run = 0\n",
      "{'00000': 257, '00100': 1, '01100': 255, '10100': 253, '11000': 234}\n",
      "avg_x = 0.998\n",
      "\n",
      "theta = 1.5707963267948966, phi = 1.984163781214606\n",
      "Run = 0\n",
      "{'00000': 234, '00100': 9, '01000': 13, '01100': 221, '10000': 9, '10100': 261, '11000': 245, '11100': 8}\n",
      "avg_x = 0.922\n",
      "\n",
      "theta = 1.5707963267948966, phi = 2.3148577447503738\n",
      "Run = 0\n",
      "{'00000': 209, '00100': 26, '01000': 28, '01100': 227, '10000': 31, '10100': 228, '11000': 226, '11100': 25}\n",
      "avg_x = 0.78\n",
      "\n",
      "theta = 1.5707963267948966, phi = 2.6455517082861415\n",
      "Run = 0\n",
      "{'00000': 158, '00100': 75, '01000': 54, '01100': 198, '10000': 63, '10100': 191, '11000': 197, '11100': 64}\n",
      "avg_x = 0.488\n",
      "\n",
      "theta = 1.5707963267948966, phi = 2.9762456718219092\n",
      "Run = 0\n",
      "{'00000': 152, '00100': 111, '01000': 108, '01100': 146, '10000': 105, '10100': 147, '11000': 124, '11100': 107}\n",
      "avg_x = 0.138\n",
      "\n",
      "theta = 1.5707963267948966, phi = 3.306939635357677\n",
      "Run = 0\n",
      "{'00000': 113, '00100': 136, '01000': 140, '01100': 96, '10000': 162, '10100': 98, '11000': 101, '11100': 154}\n",
      "avg_x = -0.184\n",
      "\n",
      "theta = 1.5707963267948966, phi = 3.6376335988934447\n",
      "Run = 0\n",
      "{'00000': 66, '00100': 190, '01000': 182, '01100': 63, '10000': 193, '10100': 63, '11000': 56, '11100': 187}\n",
      "avg_x = -0.504\n",
      "\n",
      "theta = 1.5707963267948966, phi = 3.968327562429212\n",
      "Run = 0\n",
      "{'00000': 29, '00100': 230, '01000': 213, '01100': 33, '10000': 199, '10100': 45, '11000': 35, '11100': 216}\n",
      "avg_x = -0.716\n",
      "\n",
      "theta = 1.5707963267948966, phi = 4.29902152596498\n",
      "Run = 0\n",
      "{'00000': 18, '00100': 236, '01000': 240, '01100': 13, '10000': 241, '10100': 12, '11000': 15, '11100': 225}\n",
      "avg_x = -0.884\n",
      "\n",
      "theta = 1.5707963267948966, phi = 4.6297154895007475\n",
      "Run = 0\n",
      "{'00100': 277, '01000': 231, '10000': 237, '11000': 3, '11100': 252}\n",
      "avg_x = -0.994\n",
      "\n",
      "theta = 1.5707963267948966, phi = 4.960409453036515\n",
      "Run = 0\n",
      "{'00000': 5, '00100': 258, '01000': 233, '01100': 5, '10000': 262, '10100': 1, '11000': 7, '11100': 229}\n",
      "avg_x = -0.964\n",
      "\n",
      "theta = 1.5707963267948966, phi = 5.291103416572283\n",
      "Run = 0\n",
      "{'00000': 18, '00100': 227, '01000': 238, '01100': 19, '10000': 241, '10100': 21, '11000': 17, '11100': 219}\n",
      "avg_x = -0.85\n",
      "\n",
      "theta = 1.5707963267948966, phi = 5.621797380108051\n",
      "Run = 0\n",
      "{'00000': 47, '00100': 195, '01000': 199, '01100': 42, '10000': 204, '10100': 53, '11000': 46, '11100': 214}\n",
      "avg_x = -0.624\n",
      "\n",
      "theta = 1.5707963267948966, phi = 5.9524913436438185\n",
      "Run = 0\n",
      "{'00000': 92, '00100': 161, '01000': 176, '01100': 97, '10000': 167, '10100': 68, '11000': 87, '11100': 152}\n",
      "avg_x = -0.312\n",
      "\n",
      "theta = 1.5707963267948966, phi = 6.283185307179586\n",
      "Run = 0\n",
      "{'00000': 133, '00100': 123, '01000': 117, '01100': 125, '10000': 110, '10100': 143, '11000': 101, '11100': 148}\n",
      "avg_x = 0.004\n",
      "\n"
     ]
    }
   ],
   "source": [
    "# Analyze results.\n",
    "avg_ys_sim_eqt = []\n",
    "\n",
    "for i, jobs_theta in enumerate(jobs):\n",
    "    avg_theta = []\n",
    "    \n",
    "    for k, jobs_phi in enumerate(jobs_theta):\n",
    "        print(f'theta = {thetas[i]}, phi = {phis[k]}')\n",
    "        \n",
    "        # Loop over runs.\n",
    "        avg_runs = []\n",
    "        for l, j in enumerate(jobs_phi):\n",
    "            result = j.result()\n",
    "            counts = result.get_counts()\n",
    "            plot_histogram(counts)\n",
    "            avg = 0\n",
    "            pop = 0\n",
    "            \n",
    "            # In a single run.\n",
    "            for bitstring in counts:\n",
    "                if bitstring[-2:] == '00': # Postselect.\n",
    "                    _bitstring = map_to_pm1(bitstring[:3])\n",
    "                    #print(bitstring)\n",
    "                    #print(_bitstring)\n",
    "                    #print(prod)\n",
    "                    prod = np.prod(_bitstring)\n",
    "                    avg += prod * counts[bitstring]\n",
    "                    pop += counts[bitstring]\n",
    "            \n",
    "            avg /= pop\n",
    "            avg_runs.append(avg)\n",
    "            print(f'Run = {l}')\n",
    "            print(counts)\n",
    "            print(f'avg_x = {avg}\\n')\n",
    "            \n",
    "        avg_theta.append(np.mean(avg_runs))\n",
    "    \n",
    "    avg_ys_sim_eqt.append(avg_theta)"
   ]
  },
  {
   "cell_type": "code",
   "execution_count": 508,
   "id": "99b91a74-da40-4d6c-b9f2-b26745b21b74",
   "metadata": {
    "collapsed": true,
    "jupyter": {
     "outputs_hidden": true
    },
    "tags": []
   },
   "outputs": [
    {
     "data": {
      "text/plain": [
       "[[-0.004,\n",
       "  0.314,\n",
       "  0.638,\n",
       "  0.854,\n",
       "  0.964,\n",
       "  0.998,\n",
       "  0.922,\n",
       "  0.78,\n",
       "  0.488,\n",
       "  0.138,\n",
       "  -0.184,\n",
       "  -0.504,\n",
       "  -0.716,\n",
       "  -0.884,\n",
       "  -0.994,\n",
       "  -0.964,\n",
       "  -0.85,\n",
       "  -0.624,\n",
       "  -0.312,\n",
       "  0.004]]"
      ]
     },
     "execution_count": 508,
     "metadata": {},
     "output_type": "execute_result"
    }
   ],
   "source": [
    "avg_ys_sim_eqt"
   ]
  },
  {
   "cell_type": "markdown",
   "id": "7f94cf99-a547-4a90-9185-876ff7b6f617",
   "metadata": {
    "tags": []
   },
   "source": [
    "### $\\theta \\in [0, \\pi], \\phi = 0$"
   ]
  },
  {
   "cell_type": "code",
   "execution_count": 524,
   "id": "e3c1c7b8-5602-47f9-98d0-60d0d8fc68b4",
   "metadata": {
    "jupyter": {
     "source_hidden": true
    },
    "tags": []
   },
   "outputs": [],
   "source": [
    "thetas = np.linspace(0., np.pi, 15)\n",
    "phis = [0.]\n",
    "circs = measure_logical_pauli(thetas, phis, op='y')"
   ]
  },
  {
   "cell_type": "code",
   "execution_count": 525,
   "id": "2ed2a44d-e5e5-4aa6-bfa0-bc946a959fd9",
   "metadata": {
    "jupyter": {
     "source_hidden": true
    },
    "tags": []
   },
   "outputs": [],
   "source": [
    "# Add QI backend.\n",
    "qi_backend = QI.get_backend('QX single-node simulator')\n",
    "#qi_backend = QI.get_backend('Starmon-5')\n",
    "\n",
    "# Execute jobs.\n",
    "runs = 1\n",
    "shots = 1000\n",
    "jobs = []\n",
    "\n",
    "for circs_theta in circs:\n",
    "    jobs_theta = []\n",
    "    \n",
    "    for circ in circs_theta:\n",
    "        jobs_phi = []\n",
    "        \n",
    "        for run in range(runs):\n",
    "            j = execute(circ, backend=qi_backend, shots=shots)\n",
    "            jobs_phi.append(j)\n",
    "            \n",
    "        jobs_theta.append(jobs_phi)\n",
    "        \n",
    "    jobs.append(jobs_theta)"
   ]
  },
  {
   "cell_type": "code",
   "execution_count": 526,
   "id": "cb86344b-260f-4b97-9d85-a9ac957378f1",
   "metadata": {
    "collapsed": true,
    "jupyter": {
     "outputs_hidden": true,
     "source_hidden": true
    },
    "tags": []
   },
   "outputs": [
    {
     "name": "stdout",
     "output_type": "stream",
     "text": [
      "theta = 0.0, phi = 0.0\n",
      "Run = 0\n",
      "{'00000': 97, '00100': 115, '01000': 131, '01100': 137, '10000': 144, '10100': 134, '11000': 137, '11100': 105}\n",
      "avg_y = 0.01\n",
      "\n",
      "theta = 0.2243994752564138, phi = 0.0\n",
      "Run = 0\n",
      "{'00000': 125, '00100': 110, '01000': 130, '01100': 112, '10000': 128, '10100': 142, '11000': 124, '11100': 129}\n",
      "avg_y = 0.006\n",
      "\n",
      "theta = 0.4487989505128276, phi = 0.0\n",
      "Run = 0\n",
      "{'00000': 119, '00100': 130, '01000': 122, '01100': 126, '10000': 124, '10100': 122, '11000': 122, '11100': 135}\n",
      "avg_y = -0.022\n",
      "\n",
      "theta = 0.6731984257692414, phi = 0.0\n",
      "Run = 0\n",
      "{'00000': 129, '00100': 130, '01000': 125, '01100': 110, '10000': 119, '10100': 122, '11000': 130, '11100': 135}\n",
      "avg_y = -0.018\n",
      "\n",
      "theta = 0.8975979010256552, phi = 0.0\n",
      "Run = 0\n",
      "{'00000': 122, '00100': 119, '01000': 124, '01100': 133, '10000': 104, '10100': 139, '11000': 145, '11100': 114}\n",
      "avg_y = 0.078\n",
      "\n",
      "theta = 1.121997376282069, phi = 0.0\n",
      "Run = 0\n",
      "{'00000': 114, '00100': 137, '01000': 104, '01100': 134, '10000': 122, '10100': 118, '11000': 137, '11100': 134}\n",
      "avg_y = 0.006\n",
      "\n",
      "theta = 1.3463968515384828, phi = 0.0\n",
      "Run = 0\n",
      "{'00000': 133, '00100': 121, '01000': 134, '01100': 113, '10000': 139, '10100': 117, '11000': 119, '11100': 124}\n",
      "avg_y = -0.036\n",
      "\n",
      "theta = 1.5707963267948966, phi = 0.0\n",
      "Run = 0\n",
      "{'00000': 131, '00100': 119, '01000': 123, '01100': 125, '10000': 119, '10100': 132, '11000': 129, '11100': 122}\n",
      "avg_y = 0.034\n",
      "\n",
      "theta = 1.7951958020513104, phi = 0.0\n",
      "Run = 0\n",
      "{'00000': 123, '00100': 125, '01000': 115, '01100': 132, '10000': 138, '10100': 114, '11000': 122, '11100': 131}\n",
      "avg_y = -0.018\n",
      "\n",
      "theta = 2.019595277307724, phi = 0.0\n",
      "Run = 0\n",
      "{'00000': 133, '00100': 123, '01000': 110, '01100': 123, '10000': 123, '10100': 148, '11000': 129, '11100': 111}\n",
      "avg_y = 0.066\n",
      "\n",
      "theta = 2.243994752564138, phi = 0.0\n",
      "Run = 0\n",
      "{'00000': 126, '00100': 121, '01000': 113, '01100': 129, '10000': 120, '10100': 150, '11000': 120, '11100': 121}\n",
      "avg_y = 0.05\n",
      "\n",
      "theta = 2.4683942278205517, phi = 0.0\n",
      "Run = 0\n",
      "{'00000': 140, '00100': 123, '01000': 120, '01100': 130, '10000': 126, '10100': 127, '11000': 107, '11100': 127}\n",
      "avg_y = 0.008\n",
      "\n",
      "theta = 2.6927937030769655, phi = 0.0\n",
      "Run = 0\n",
      "{'00000': 119, '00100': 121, '01000': 137, '01100': 125, '10000': 117, '10100': 127, '11000': 138, '11100': 116}\n",
      "avg_y = 0.018\n",
      "\n",
      "theta = 2.9171931783333793, phi = 0.0\n",
      "Run = 0\n",
      "{'00000': 117, '00100': 109, '01000': 139, '01100': 124, '10000': 135, '10100': 126, '11000': 136, '11100': 114}\n",
      "avg_y = 0.006\n",
      "\n",
      "theta = 3.141592653589793, phi = 0.0\n",
      "Run = 0\n",
      "{'00000': 117, '00100': 114, '01000': 120, '01100': 149, '10000': 128, '10100': 109, '11000': 131, '11100': 132}\n",
      "avg_y = 0.012\n",
      "\n"
     ]
    }
   ],
   "source": [
    "# Analyze results.\n",
    "avg_ys_sim = []\n",
    "\n",
    "for i, jobs_theta in enumerate(jobs):\n",
    "    avg_theta = []\n",
    "    \n",
    "    for k, jobs_phi in enumerate(jobs_theta):\n",
    "        print(f'theta = {thetas[i]}, phi = {phis[k]}')\n",
    "        \n",
    "        # Loop over runs.\n",
    "        avg_runs = []\n",
    "        for l, j in enumerate(jobs_phi):\n",
    "            result = j.result()\n",
    "            counts = result.get_counts()\n",
    "            plot_histogram(counts)\n",
    "            avg = 0\n",
    "            pop = 0\n",
    "            \n",
    "            # In a single run.\n",
    "            for bitstring in counts:\n",
    "                if bitstring[-2:] == '00': # Postselect.\n",
    "                    _bitstring = map_to_pm1(bitstring[:3])\n",
    "                    #print(bitstring)\n",
    "                    #print(_bitstring)\n",
    "                    #print(prod)\n",
    "                    prod = np.prod(_bitstring)\n",
    "                    avg += prod * counts[bitstring]\n",
    "                    pop += counts[bitstring]\n",
    "            \n",
    "            avg /= pop\n",
    "            avg_runs.append(avg)\n",
    "            print(f'Run = {l}')\n",
    "            print(counts)\n",
    "            print(f'avg_y = {avg}\\n')\n",
    "            \n",
    "        avg_theta.append(np.mean(avg_runs))\n",
    "    \n",
    "    avg_ys_sim.append(avg_theta)"
   ]
  },
  {
   "cell_type": "code",
   "execution_count": 527,
   "id": "a92c0f72-219a-4c6d-b646-4d8f6e8b70b3",
   "metadata": {
    "collapsed": true,
    "jupyter": {
     "outputs_hidden": true
    },
    "tags": []
   },
   "outputs": [
    {
     "data": {
      "text/plain": [
       "[[0.01],\n",
       " [0.006],\n",
       " [-0.022],\n",
       " [-0.018],\n",
       " [0.078],\n",
       " [0.006],\n",
       " [-0.036],\n",
       " [0.034],\n",
       " [-0.018],\n",
       " [0.066],\n",
       " [0.05],\n",
       " [0.008],\n",
       " [0.018],\n",
       " [0.006],\n",
       " [0.012]]"
      ]
     },
     "execution_count": 527,
     "metadata": {},
     "output_type": "execute_result"
    }
   ],
   "source": [
    "avg_ys_sim"
   ]
  },
  {
   "cell_type": "markdown",
   "id": "6ddef9b4-e836-4c4d-8e5c-ecad2eec2e16",
   "metadata": {},
   "source": [
    "## Starmon-5"
   ]
  },
  {
   "cell_type": "code",
   "execution_count": 657,
   "id": "bc1254ef-4af3-4d99-a782-6ec9c09286dc",
   "metadata": {
    "jupyter": {
     "source_hidden": true
    },
    "tags": []
   },
   "outputs": [
    {
     "data": {
      "image/png": "[encoded data removed]",
      "text/plain": [
       "<Figure size 576x360 with 1 Axes>"
      ]
     },
     "metadata": {
      "needs_background": "light"
     },
     "output_type": "display_data"
    }
   ],
   "source": [
    "phis = np.linspace(0., 2*np.pi, 20)\n",
    "starmons_eqt = [avg_xs_eqt_starmon[0], avg_ys_eqt_starmon[0], avg_zs_eqt_starmon[0]]\n",
    "labels = ['$\\\\langle X \\\\rangle_L$', '$\\\\langle Y \\\\rangle_L$', '$\\\\langle Z \\\\rangle_L$']\n",
    "\n",
    "fig, ax = plt.subplots(1, 1, figsize=(8, 5))\n",
    "ax.set_title('Starmon-5')\n",
    "\n",
    "for i, sim in enumerate(starmons_eqt):\n",
    "    plt.plot(phis, sim, label=labels[i], marker='.')\n",
    "    plt.xlabel('Rotation angle $\\\\phi$ (rad)')\n",
    "    plt.ylabel('$\\\\langle O \\\\rangle_L$')\n",
    "\n",
    "plt.grid()\n",
    "plt.legend()\n",
    "plt.tight_layout()"
   ]
  },
  {
   "cell_type": "code",
   "execution_count": 658,
   "id": "98e68025-747e-4e2e-9d4c-c3b5fe0dad15",
   "metadata": {
    "jupyter": {
     "source_hidden": true
    },
    "tags": []
   },
   "outputs": [
    {
     "data": {
      "image/png": "[encoded data removed]",
      "text/plain": [
       "<Figure size 576x360 with 1 Axes>"
      ]
     },
     "metadata": {
      "needs_background": "light"
     },
     "output_type": "display_data"
    }
   ],
   "source": [
    "thetas = np.linspace(0., np.pi, 15)\n",
    "starmons = [avg_xs_starmon, avg_ys_starmon, avg_zs_starmon]\n",
    "labels = ['$\\\\langle X \\\\rangle_L$', '$\\\\langle Y \\\\rangle_L$', '$\\\\langle Z \\\\rangle_L$']\n",
    "\n",
    "fig, ax = plt.subplots(1, 1, figsize=(8, 5))\n",
    "ax.set_title('Starmon-5')\n",
    "\n",
    "for i, sim in enumerate(starmons):\n",
    "    plt.plot(thetas, sim, label=labels[i], marker='.')\n",
    "    plt.xlabel('Rotation angle $\\\\theta$ (rad)')\n",
    "    plt.ylabel('$\\\\langle O \\\\rangle_L$')\n",
    "\n",
    "plt.grid()\n",
    "plt.legend()\n",
    "plt.tight_layout()"
   ]
  },
  {
   "cell_type": "markdown",
   "id": "fa551fc6-fd4a-4d10-8b82-42ac7078e111",
   "metadata": {},
   "source": [
    "### $\\langle Z \\rangle_L$ measurement"
   ]
  },
  {
   "cell_type": "markdown",
   "id": "4ba02a81-e8e4-4ad1-aff8-48a46c16b898",
   "metadata": {},
   "source": [
    "### $\\theta = \\pi/2, \\phi \\in [0, 2\\pi]$"
   ]
  },
  {
   "cell_type": "code",
   "execution_count": 540,
   "id": "125e4031-3c08-4ead-9965-b8a33166250c",
   "metadata": {
    "jupyter": {
     "source_hidden": true
    },
    "tags": []
   },
   "outputs": [],
   "source": [
    "thetas = [np.pi/2]\n",
    "phis = np.linspace(0., 2*np.pi, 20)\n",
    "circs = measure_logical_pauli(thetas, phis, op='z')"
   ]
  },
  {
   "cell_type": "code",
   "execution_count": 541,
   "id": "9fa0ef5a-fdc0-4e1e-bdfd-6f698cd22f0f",
   "metadata": {
    "jupyter": {
     "source_hidden": true
    },
    "tags": []
   },
   "outputs": [],
   "source": [
    "# Add QI backend.\n",
    "#qi_backend = QI.get_backend('QX single-node simulator')\n",
    "qi_backend = QI.get_backend('Starmon-5')\n",
    "\n",
    "# Execute jobs.\n",
    "runs = 1\n",
    "shots = 1000\n",
    "jobs = []\n",
    "\n",
    "for circs_theta in circs:\n",
    "    jobs_theta = []\n",
    "    \n",
    "    for circ in circs_theta:\n",
    "        jobs_phi = []\n",
    "        \n",
    "        for run in range(runs):\n",
    "            j = execute(circ, backend=qi_backend, shots=shots)\n",
    "            jobs_phi.append(j)\n",
    "            \n",
    "        jobs_theta.append(jobs_phi)\n",
    "        \n",
    "    jobs.append(jobs_theta)"
   ]
  },
  {
   "cell_type": "code",
   "execution_count": 542,
   "id": "a2a17562-15dd-4a6c-b259-5cd06db09687",
   "metadata": {
    "collapsed": true,
    "jupyter": {
     "outputs_hidden": true,
     "source_hidden": true
    },
    "tags": []
   },
   "outputs": [
    {
     "name": "stdout",
     "output_type": "stream",
     "text": [
      "theta = 1.5707963267948966, phi = 0.0\n",
      "Run = 0\n",
      "{'00000': 267, '00001': 61, '00010': 33, '00011': 6, '00100': 18, '00101': 19, '00110': 6, '00111': 4, '01000': 24, '01001': 20, '01010': 6, '01011': 11, '01100': 17, '01101': 49, '01110': 4, '01111': 9, '10000': 22, '10001': 34, '10010': 14, '10011': 20, '10100': 30, '10101': 22, '10110': 7, '10111': 17, '11000': 31, '11001': 14, '11010': 27, '11011': 12, '11100': 111, '11101': 38, '11110': 28, '11111': 19}\n",
      "avg_z = 0.3269230769230769\n",
      "\n",
      "theta = 1.5707963267948966, phi = 0.3306939635357677\n",
      "Run = 0\n",
      "{'00000': 243, '00001': 35, '00010': 32, '00011': 13, '00100': 11, '00101': 19, '00110': 3, '00111': 15, '01000': 51, '01001': 33, '01010': 10, '01011': 17, '01100': 27, '01101': 56, '01110': 5, '01111': 16, '10000': 31, '10001': 38, '10010': 3, '10011': 10, '10100': 8, '10101': 22, '10110': 4, '10111': 29, '11000': 42, '11001': 22, '11010': 20, '11011': 18, '11100': 108, '11101': 32, '11110': 17, '11111': 10}\n",
      "avg_z = 0.22840690978886757\n",
      "\n",
      "theta = 1.5707963267948966, phi = 0.6613879270715354\n",
      "Run = 0\n",
      "{'00000': 207, '00001': 62, '00010': 33, '00011': 23, '00100': 30, '00101': 28, '00110': 11, '00111': 18, '01000': 19, '01001': 31, '01010': 11, '01011': 33, '01100': 24, '01101': 60, '01110': 8, '01111': 27, '10000': 37, '10001': 53, '10010': 12, '10011': 18, '10100': 20, '10101': 20, '10110': 25, '10111': 9, '11000': 23, '11001': 7, '11010': 16, '11011': 8, '11100': 80, '11101': 24, '11110': 18, '11111': 5}\n",
      "avg_z = 0.24545454545454545\n",
      "\n",
      "theta = 1.5707963267948966, phi = 0.992081890607303\n",
      "Run = 0\n",
      "{'00000': 189, '00001': 63, '00010': 30, '00011': 18, '00100': 38, '00101': 33, '00110': 10, '00111': 23, '01000': 13, '01001': 13, '01010': 7, '01011': 23, '01100': 18, '01101': 69, '01110': 2, '01111': 20, '10000': 34, '10001': 51, '10010': 24, '10011': 22, '10100': 30, '10101': 26, '10110': 16, '10111': 15, '11000': 26, '11001': 9, '11010': 14, '11011': 14, '11100': 88, '11101': 33, '11110': 22, '11111': 7}\n",
      "avg_z = 0.20642201834862386\n",
      "\n",
      "theta = 1.5707963267948966, phi = 1.3227758541430708\n",
      "Run = 0\n",
      "{'00000': 239, '00001': 34, '00010': 26, '00011': 7, '00100': 11, '00101': 12, '00110': 13, '00111': 16, '01000': 61, '01001': 30, '01010': 7, '01011': 34, '01100': 27, '01101': 59, '01110': 5, '01111': 19, '10000': 19, '10001': 32, '10010': 3, '10011': 9, '10100': 9, '10101': 28, '10110': 8, '10111': 24, '11000': 46, '11001': 30, '11010': 10, '11011': 11, '11100': 114, '11101': 28, '11110': 17, '11111': 12}\n",
      "avg_z = 0.22053231939163498\n",
      "\n",
      "theta = 1.5707963267948966, phi = 1.6534698176788385\n",
      "Run = 0\n",
      "{'00000': 184, '00001': 54, '00010': 38, '00011': 17, '00100': 14, '00101': 17, '00110': 17, '00111': 14, '01000': 18, '01001': 22, '01010': 9, '01011': 22, '01100': 27, '01101': 76, '01110': 12, '01111': 18, '10000': 22, '10001': 63, '10010': 16, '10011': 26, '10100': 32, '10101': 33, '10110': 31, '10111': 39, '11000': 25, '11001': 15, '11010': 10, '11011': 8, '11100': 58, '11101': 26, '11110': 24, '11111': 13}\n",
      "avg_z = 0.4105263157894737\n",
      "\n",
      "theta = 1.5707963267948966, phi = 1.984163781214606\n",
      "Run = 0\n",
      "{'00000': 175, '00001': 40, '00010': 38, '00011': 9, '00100': 19, '00101': 13, '00110': 18, '00111': 9, '01000': 32, '01001': 37, '01010': 8, '01011': 39, '01100': 17, '01101': 75, '01110': 7, '01111': 18, '10000': 21, '10001': 43, '10010': 7, '10011': 21, '10100': 13, '10101': 34, '10110': 5, '10111': 35, '11000': 31, '11001': 23, '11010': 13, '11011': 7, '11100': 123, '11101': 39, '11110': 18, '11111': 13}\n",
      "avg_z = 0.0951276102088167\n",
      "\n",
      "theta = 1.5707963267948966, phi = 2.3148577447503738\n",
      "Run = 0\n",
      "{'00000': 179, '00001': 37, '00010': 40, '00011': 15, '00100': 10, '00101': 14, '00110': 14, '00111': 19, '01000': 33, '01001': 36, '01010': 19, '01011': 35, '01100': 25, '01101': 51, '01110': 6, '01111': 14, '10000': 25, '10001': 56, '10010': 8, '10011': 30, '10100': 15, '10101': 35, '10110': 10, '10111': 36, '11000': 36, '11001': 16, '11010': 16, '11011': 9, '11100': 108, '11101': 28, '11110': 20, '11111': 5}\n",
      "avg_z = 0.18329466357308585\n",
      "\n",
      "theta = 1.5707963267948966, phi = 2.6455517082861415\n",
      "Run = 0\n",
      "{'00000': 122, '00001': 26, '00010': 77, '00011': 27, '00100': 15, '00101': 34, '00110': 25, '00111': 43, '01000': 18, '01001': 18, '01010': 15, '01011': 20, '01100': 15, '01101': 64, '01110': 21, '01111': 41, '10000': 26, '10001': 56, '10010': 23, '10011': 26, '10100': 12, '10101': 21, '10110': 24, '10111': 29, '11000': 21, '11001': 10, '11010': 21, '11011': 17, '11100': 72, '11101': 8, '11110': 37, '11111': 16}\n",
      "avg_z = 0.12956810631229235\n",
      "\n",
      "theta = 1.5707963267948966, phi = 2.9762456718219092\n",
      "Run = 0\n",
      "{'00000': 242, '00001': 43, '00010': 29, '00011': 11, '00100': 19, '00101': 8, '00110': 17, '00111': 6, '01000': 30, '01001': 22, '01010': 15, '01011': 29, '01100': 14, '01101': 46, '01110': 4, '01111': 7, '10000': 25, '10001': 45, '10010': 10, '10011': 14, '10100': 28, '10101': 11, '10110': 9, '10111': 17, '11000': 48, '11001': 16, '11010': 18, '11011': 8, '11100': 139, '11101': 26, '11110': 27, '11111': 17}\n",
      "avg_z = 0.21834862385321102\n",
      "\n",
      "theta = 1.5707963267948966, phi = 3.306939635357677\n",
      "Run = 0\n",
      "{'00000': 237, '00001': 42, '00010': 36, '00011': 11, '00100': 28, '00101': 13, '00110': 21, '00111': 5, '01000': 23, '01001': 22, '01010': 10, '01011': 24, '01100': 20, '01101': 40, '01110': 7, '01111': 8, '10000': 28, '10001': 60, '10010': 19, '10011': 14, '10100': 19, '10101': 6, '10110': 19, '10111': 13, '11000': 36, '11001': 15, '11010': 19, '11011': 14, '11100': 116, '11101': 29, '11110': 26, '11111': 20}\n",
      "avg_z = 0.23076923076923078\n",
      "\n",
      "theta = 1.5707963267948966, phi = 3.6376335988934447\n",
      "Run = 0\n",
      "{'00000': 138, '00001': 29, '00010': 92, '00011': 35, '00100': 13, '00101': 20, '00110': 13, '00111': 29, '01000': 13, '01001': 27, '01010': 14, '01011': 23, '01100': 9, '01101': 52, '01110': 8, '01111': 39, '10000': 35, '10001': 50, '10010': 24, '10011': 33, '10100': 11, '10101': 21, '10110': 31, '10111': 35, '11000': 21, '11001': 7, '11010': 30, '11011': 16, '11100': 67, '11101': 10, '11110': 36, '11111': 19}\n",
      "avg_z = 0.16612377850162866\n",
      "\n",
      "theta = 1.5707963267948966, phi = 3.968327562429212\n",
      "Run = 0\n",
      "{'00000': 156, '00001': 30, '00010': 36, '00011': 7, '00100': 14, '00101': 12, '00110': 6, '00111': 12, '01000': 59, '01001': 57, '01010': 18, '01011': 20, '01100': 28, '01101': 72, '01110': 10, '01111': 26, '10000': 16, '10001': 37, '10010': 6, '10011': 15, '10100': 18, '10101': 16, '10110': 10, '10111': 25, '11000': 47, '11001': 32, '11010': 26, '11011': 16, '11100': 96, '11101': 36, '11110': 19, '11111': 22}\n",
      "avg_z = 0.14746543778801843\n",
      "\n",
      "theta = 1.5707963267948966, phi = 4.29902152596498\n",
      "Run = 0\n",
      "{'00000': 222, '00001': 43, '00010': 36, '00011': 7, '00100': 20, '00101': 14, '00110': 18, '00111': 2, '01000': 31, '01001': 31, '01010': 13, '01011': 20, '01100': 13, '01101': 43, '01110': 1, '01111': 9, '10000': 28, '10001': 40, '10010': 16, '10011': 17, '10100': 23, '10101': 23, '10110': 11, '10111': 11, '11000': 41, '11001': 28, '11010': 19, '11011': 15, '11100': 122, '11101': 33, '11110': 29, '11111': 21}\n",
      "avg_z = 0.196\n",
      "\n",
      "theta = 1.5707963267948966, phi = 4.6297154895007475\n",
      "Run = 0\n",
      "{'00000': 208, '00001': 45, '00010': 30, '00011': 26, '00100': 46, '00101': 25, '00110': 15, '00111': 17, '01000': 16, '01001': 30, '01010': 16, '01011': 16, '01100': 20, '01101': 47, '01110': 13, '01111': 13, '10000': 41, '10001': 70, '10010': 13, '10011': 21, '10100': 13, '10101': 20, '10110': 11, '10111': 17, '11000': 43, '11001': 20, '11010': 20, '11011': 13, '11100': 64, '11101': 31, '11110': 8, '11111': 12}\n",
      "avg_z = 0.25942350332594233\n",
      "\n",
      "theta = 1.5707963267948966, phi = 4.960409453036515\n",
      "Run = 0\n",
      "{'00000': 166, '00001': 30, '00010': 90, '00011': 33, '00100': 13, '00101': 16, '00110': 23, '00111': 31, '01000': 21, '01001': 21, '01010': 13, '01011': 15, '01100': 23, '01101': 47, '01110': 12, '01111': 37, '10000': 31, '10001': 45, '10010': 26, '10011': 40, '10100': 13, '10101': 24, '10110': 31, '10111': 32, '11000': 23, '11001': 8, '11010': 25, '11011': 14, '11100': 54, '11101': 11, '11110': 24, '11111': 8}\n",
      "avg_z = 0.3081395348837209\n",
      "\n",
      "theta = 1.5707963267948966, phi = 5.291103416572283\n",
      "Run = 0\n",
      "{'00000': 208, '00001': 73, '00010': 32, '00011': 21, '00100': 36, '00101': 24, '00110': 10, '00111': 21, '01000': 10, '01001': 37, '01010': 12, '01011': 15, '01100': 13, '01101': 62, '01110': 15, '01111': 22, '10000': 37, '10001': 46, '10010': 18, '10011': 16, '10100': 20, '10101': 26, '10110': 31, '10111': 20, '11000': 24, '11001': 6, '11010': 18, '11011': 8, '11100': 73, '11101': 15, '11110': 26, '11111': 5}\n",
      "avg_z = 0.2589073634204275\n",
      "\n",
      "theta = 1.5707963267948966, phi = 5.621797380108051\n",
      "Run = 0\n",
      "{'00000': 187, '00001': 33, '00010': 21, '00011': 12, '00100': 14, '00101': 13, '00110': 8, '00111': 7, '01000': 89, '01001': 49, '01010': 15, '01011': 25, '01100': 33, '01101': 50, '01110': 7, '01111': 17, '10000': 12, '10001': 41, '10010': 6, '10011': 8, '10100': 13, '10101': 23, '10110': 6, '10111': 10, '11000': 38, '11001': 32, '11010': 29, '11011': 13, '11100': 120, '11101': 37, '11110': 12, '11111': 20}\n",
      "avg_z = 0.07114624505928854\n",
      "\n",
      "theta = 1.5707963267948966, phi = 5.9524913436438185\n",
      "Run = 0\n",
      "{'00000': 256, '00001': 46, '00010': 33, '00011': 17, '00100': 15, '00101': 16, '00110': 7, '00111': 7, '01000': 64, '01001': 43, '01010': 11, '01011': 19, '01100': 15, '01101': 33, '01110': 5, '01111': 10, '10000': 20, '10001': 37, '10010': 6, '10011': 15, '10100': 10, '10101': 15, '10110': 4, '10111': 9, '11000': 80, '11001': 23, '11010': 30, '11011': 12, '11100': 93, '11101': 26, '11110': 17, '11111': 6}\n",
      "avg_z = 0.30560578661844484\n",
      "\n",
      "theta = 1.5707963267948966, phi = 6.283185307179586\n",
      "Run = 0\n",
      "{'00000': 198, '00001': 53, '00010': 67, '00011': 30, '00100': 16, '00101': 27, '00110': 21, '00111': 20, '01000': 20, '01001': 31, '01010': 12, '01011': 16, '01100': 15, '01101': 50, '01110': 11, '01111': 22, '10000': 30, '10001': 48, '10010': 28, '10011': 31, '10100': 21, '10101': 17, '10110': 10, '10111': 24, '11000': 36, '11001': 9, '11010': 15, '11011': 19, '11100': 47, '11101': 15, '11110': 16, '11111': 25}\n",
      "avg_z = 0.40992167101827676\n",
      "\n"
     ]
    }
   ],
   "source": [
    "# Analyze results.\n",
    "avg_zs_eqt_starmon = []\n",
    "\n",
    "for i, jobs_theta in enumerate(jobs):\n",
    "    avg_z_theta = []\n",
    "    \n",
    "    for k, jobs_phi in enumerate(jobs_theta):\n",
    "        print(f'theta = {thetas[i]}, phi = {phis[k]}')\n",
    "        \n",
    "        # Loop over runs.\n",
    "        avg_z_runs = []\n",
    "        for l, j in enumerate(jobs_phi):\n",
    "            result = j.result()\n",
    "            counts = result.get_counts()\n",
    "            plot_histogram(counts)\n",
    "            avg_z = 0\n",
    "            pop = 0\n",
    "            \n",
    "            # In a single run.\n",
    "            for bitstring in counts:\n",
    "                if bitstring[-2:] == '00': # Postselect.\n",
    "                    _bitstring = map_to_pm1(bitstring[:3])\n",
    "                    #print(bitstring)\n",
    "                    #print(_bitstring)\n",
    "                    #print(prod)\n",
    "                    prod = np.prod(_bitstring)\n",
    "                    avg_z += prod * counts[bitstring]\n",
    "                    pop += counts[bitstring]\n",
    "            \n",
    "            avg_z /= pop\n",
    "            avg_z_runs.append(avg_z)\n",
    "            print(f'Run = {l}')\n",
    "            print(counts)\n",
    "            print(f'avg_z = {avg_z}\\n')\n",
    "            \n",
    "        avg_z_theta.append(np.mean(avg_z_runs))\n",
    "    \n",
    "    avg_zs_eqt_starmon.append(avg_z_theta)"
   ]
  },
  {
   "cell_type": "code",
   "execution_count": 543,
   "id": "b15c45e0-99d0-457a-8313-a2e94431b27f",
   "metadata": {},
   "outputs": [
    {
     "data": {
      "text/plain": [
       "[[0.3269230769230769,\n",
       "  0.22840690978886757,\n",
       "  0.24545454545454545,\n",
       "  0.20642201834862386,\n",
       "  0.22053231939163498,\n",
       "  0.4105263157894737,\n",
       "  0.0951276102088167,\n",
       "  0.18329466357308585,\n",
       "  0.12956810631229235,\n",
       "  0.21834862385321102,\n",
       "  0.23076923076923078,\n",
       "  0.16612377850162866,\n",
       "  0.14746543778801843,\n",
       "  0.196,\n",
       "  0.25942350332594233,\n",
       "  0.3081395348837209,\n",
       "  0.2589073634204275,\n",
       "  0.07114624505928854,\n",
       "  0.30560578661844484,\n",
       "  0.40992167101827676]]"
      ]
     },
     "execution_count": 543,
     "metadata": {},
     "output_type": "execute_result"
    }
   ],
   "source": [
    "avg_zs_eqt_starmon"
   ]
  },
  {
   "cell_type": "markdown",
   "id": "360a66f7-6342-4497-bd6d-87a623711bc5",
   "metadata": {
    "tags": []
   },
   "source": [
    "### $\\theta \\in [0, \\pi], \\phi = 0$"
   ]
  },
  {
   "cell_type": "code",
   "execution_count": 544,
   "id": "29f0d2e8-916c-4fbb-b7a8-94f61b4c0d92",
   "metadata": {
    "jupyter": {
     "source_hidden": true
    },
    "tags": []
   },
   "outputs": [],
   "source": [
    "thetas = np.linspace(0., np.pi, 15)\n",
    "phis = [0.]\n",
    "circs = measure_logical_pauli(thetas, phis, op='z')"
   ]
  },
  {
   "cell_type": "code",
   "execution_count": 545,
   "id": "24555707-1f90-4110-a86b-0833cda4bbaf",
   "metadata": {
    "jupyter": {
     "source_hidden": true
    },
    "tags": []
   },
   "outputs": [],
   "source": [
    "# Add QI backend.\n",
    "#qi_backend = QI.get_backend('QX single-node simulator')\n",
    "qi_backend = QI.get_backend('Starmon-5')\n",
    "\n",
    "# Execute jobs.\n",
    "runs = 1\n",
    "shots = 1000\n",
    "jobs = []\n",
    "\n",
    "for circs_theta in circs:\n",
    "    jobs_theta = []\n",
    "    \n",
    "    for circ in circs_theta:\n",
    "        jobs_phi = []\n",
    "        \n",
    "        for run in range(runs):\n",
    "            j = execute(circ, backend=qi_backend, shots=shots)\n",
    "            jobs_phi.append(j)\n",
    "            \n",
    "        jobs_theta.append(jobs_phi)\n",
    "        \n",
    "    jobs.append(jobs_theta)"
   ]
  },
  {
   "cell_type": "code",
   "execution_count": 546,
   "id": "4830f3f7-ea17-4da3-9849-4d7733655419",
   "metadata": {
    "collapsed": true,
    "jupyter": {
     "outputs_hidden": true,
     "source_hidden": true
    },
    "tags": []
   },
   "outputs": [
    {
     "name": "stdout",
     "output_type": "stream",
     "text": [
      "theta = 0.0, phi = 0.0\n",
      "Run = 0\n",
      "{'00000': 467, '00001': 71, '00010': 104, '00011': 30, '00100': 12, '00101': 2, '00110': 10, '00111': 1, '01000': 38, '01001': 30, '01010': 13, '01011': 26, '01101': 2, '01110': 1, '01111': 2, '10000': 36, '10001': 59, '10010': 20, '10011': 30, '10100': 1, '10101': 2, '10110': 1, '10111': 1, '11000': 10, '11001': 13, '11010': 6, '11011': 2, '11100': 3, '11101': 1, '11110': 3, '11111': 3}\n",
      "avg_z = 0.6860670194003528\n",
      "\n",
      "theta = 0.2243994752564138, phi = 0.0\n",
      "Run = 0\n",
      "{'00000': 445, '00001': 77, '00010': 74, '00011': 36, '00100': 53, '00101': 17, '00110': 14, '00111': 17, '01000': 14, '01001': 3, '01010': 3, '01011': 5, '01100': 2, '01101': 1, '01111': 2, '10000': 49, '10001': 81, '10010': 13, '10011': 31, '10100': 7, '10101': 20, '10110': 9, '10111': 11, '11000': 3, '11001': 4, '11010': 1, '11011': 2, '11101': 2, '11110': 1, '11111': 3}\n",
      "avg_z = 0.5951134380453752\n",
      "\n",
      "theta = 0.4487989505128276, phi = 0.0\n",
      "Run = 0\n",
      "{'00000': 365, '00001': 60, '00010': 74, '00011': 18, '00100': 12, '00101': 3, '00110': 9, '00111': 1, '01000': 100, '01001': 48, '01010': 19, '01011': 42, '01100': 2, '01101': 18, '01110': 6, '01111': 2, '10000': 27, '10001': 62, '10010': 7, '10011': 12, '10100': 4, '10101': 5, '10110': 1, '10111': 3, '11000': 25, '11001': 22, '11010': 21, '11011': 7, '11100': 14, '11101': 5, '11110': 3, '11111': 3}\n",
      "avg_z = 0.4426229508196721\n",
      "\n",
      "theta = 0.6731984257692414, phi = 0.0\n",
      "Run = 0\n",
      "{'00000': 283, '00001': 36, '00010': 172, '00011': 56, '00100': 8, '00101': 4, '00110': 10, '00111': 17, '01000': 17, '01001': 15, '01010': 20, '01011': 44, '01100': 2, '01101': 11, '01110': 4, '01111': 8, '10000': 31, '10001': 46, '10010': 31, '10011': 44, '10100': 10, '10101': 4, '10110': 6, '10111': 12, '11000': 10, '11001': 18, '11010': 18, '11011': 18, '11100': 23, '11101': 3, '11110': 9, '11111': 10}\n",
      "avg_z = 0.5885416666666666\n",
      "\n",
      "theta = 0.8975979010256552, phi = 0.0\n",
      "Run = 0\n",
      "{'00000': 309, '00001': 45, '00010': 123, '00011': 45, '00100': 14, '00101': 12, '00110': 13, '00111': 10, '01000': 16, '01001': 14, '01010': 12, '01011': 11, '01100': 12, '01101': 17, '01110': 8, '01111': 12, '10000': 37, '10001': 67, '10010': 40, '10011': 46, '10100': 5, '10101': 11, '10110': 6, '10111': 15, '11000': 12, '11001': 6, '11010': 8, '11011': 11, '11100': 25, '11101': 12, '11110': 12, '11111': 14}\n",
      "avg_z = 0.5720930232558139\n",
      "\n",
      "theta = 1.121997376282069, phi = 0.0\n",
      "Run = 0\n",
      "{'00000': 350, '00001': 27, '00010': 26, '00011': 9, '00100': 14, '00101': 13, '00110': 5, '00111': 4, '01000': 94, '01001': 60, '01010': 13, '01011': 25, '01100': 22, '01101': 42, '01110': 4, '01111': 10, '10000': 26, '10001': 24, '10010': 6, '10011': 5, '10100': 7, '10101': 10, '10110': 1, '10111': 10, '11000': 37, '11001': 23, '11010': 18, '11011': 17, '11100': 60, '11101': 19, '11110': 15, '11111': 4}\n",
      "avg_z = 0.3639344262295082\n",
      "\n",
      "theta = 1.3463968515384828, phi = 0.0\n",
      "Run = 0\n",
      "{'00000': 247, '00001': 59, '00010': 49, '00011': 18, '00100': 19, '00101': 8, '00110': 12, '00111': 6, '01000': 26, '01001': 29, '01010': 9, '01011': 23, '01100': 9, '01101': 47, '01110': 6, '01111': 9, '10000': 39, '10001': 56, '10010': 11, '10011': 13, '10100': 18, '10101': 30, '10110': 14, '10111': 24, '11000': 30, '11001': 19, '11010': 23, '11011': 10, '11100': 83, '11101': 23, '11110': 20, '11111': 11}\n",
      "avg_z = 0.2908704883227176\n",
      "\n",
      "theta = 1.5707963267948966, phi = 0.0\n",
      "Run = 0\n",
      "{'00000': 262, '00001': 40, '00010': 27, '00011': 17, '00100': 22, '00101': 13, '00110': 12, '00111': 20, '01000': 35, '01001': 24, '01010': 11, '01011': 10, '01100': 26, '01101': 51, '01110': 9, '01111': 5, '10000': 24, '10001': 29, '10010': 11, '10011': 13, '10100': 20, '10101': 19, '10110': 10, '10111': 16, '11000': 49, '11001': 10, '11010': 22, '11011': 4, '11100': 141, '11101': 22, '11110': 15, '11111': 11}\n",
      "avg_z = 0.23316062176165803\n",
      "\n",
      "theta = 1.7951958020513104, phi = 0.0\n",
      "Run = 0\n",
      "{'00000': 160, '00001': 27, '00010': 59, '00011': 31, '00100': 14, '00101': 29, '00110': 20, '00111': 40, '01000': 16, '01001': 16, '01010': 12, '01011': 26, '01100': 15, '01101': 53, '01110': 14, '01111': 31, '10000': 21, '10001': 36, '10010': 19, '10011': 29, '10100': 22, '10101': 29, '10110': 19, '10111': 35, '11000': 26, '11001': 16, '11010': 20, '11011': 19, '11100': 79, '11101': 18, '11110': 22, '11111': 27}\n",
      "avg_z = 0.26345609065155806\n",
      "\n",
      "theta = 2.019595277307724, phi = 0.0\n",
      "Run = 0\n",
      "{'00000': 153, '00001': 21, '00010': 33, '00011': 5, '00100': 13, '00101': 19, '00110': 14, '00111': 6, '01000': 16, '01001': 23, '01010': 6, '01011': 15, '01100': 32, '01101': 56, '01110': 9, '01111': 13, '10000': 26, '10001': 28, '10010': 17, '10011': 18, '10100': 41, '10101': 16, '10110': 19, '10111': 19, '11000': 53, '11001': 20, '11010': 45, '11011': 7, '11100': 149, '11101': 33, '11110': 53, '11111': 22}\n",
      "avg_z = 0.15527950310559005\n",
      "\n",
      "theta = 2.243994752564138, phi = 0.0\n",
      "Run = 0\n",
      "{'00000': 121, '00001': 46, '00010': 32, '00011': 7, '00100': 11, '00101': 5, '00110': 8, '00111': 5, '01000': 46, '01001': 52, '01010': 10, '01011': 19, '01100': 25, '01101': 25, '01110': 2, '01111': 8, '10000': 37, '10001': 22, '10010': 28, '10011': 21, '10100': 30, '10101': 10, '10110': 9, '10111': 16, '11000': 149, '11001': 25, '11010': 53, '11011': 15, '11100': 103, '11101': 19, '11110': 33, '11111': 8}\n",
      "avg_z = 0.24521072796934865\n",
      "\n",
      "theta = 2.4683942278205517, phi = 0.0\n",
      "Run = 0\n",
      "{'00000': 63, '00001': 22, '00010': 21, '00011': 13, '00100': 20, '00101': 19, '00110': 14, '00111': 18, '01000': 11, '01001': 31, '01010': 10, '01011': 19, '01100': 29, '01101': 77, '01110': 14, '01111': 29, '10000': 25, '10001': 29, '10010': 16, '10011': 24, '10100': 39, '10101': 36, '10110': 44, '10111': 54, '11000': 42, '11001': 22, '11010': 22, '11011': 17, '11100': 96, '11101': 41, '11110': 35, '11111': 48}\n",
      "avg_z = 0.06461538461538462\n",
      "\n",
      "theta = 2.6927937030769655, phi = 0.0\n",
      "Run = 0\n",
      "{'00000': 41, '00001': 34, '00010': 21, '00011': 24, '00100': 26, '00101': 53, '00110': 17, '00111': 41, '01000': 14, '01001': 27, '01010': 5, '01011': 29, '01100': 30, '01101': 79, '01110': 11, '01111': 25, '10000': 40, '10001': 24, '10010': 19, '10011': 16, '10100': 54, '10101': 33, '10110': 36, '10111': 20, '11000': 31, '11001': 14, '11010': 33, '11011': 11, '11100': 112, '11101': 38, '11110': 31, '11111': 11}\n",
      "avg_z = -0.10344827586206896\n",
      "\n",
      "theta = 2.9171931783333793, phi = 0.0\n",
      "Run = 0\n",
      "{'00000': 17, '00001': 17, '00010': 6, '00011': 8, '00100': 19, '00101': 30, '00110': 13, '00111': 19, '01000': 13, '01001': 29, '01010': 6, '01011': 19, '01100': 42, '01101': 117, '01110': 10, '01111': 29, '10000': 14, '10001': 6, '10010': 6, '10011': 11, '10100': 40, '10101': 27, '10110': 7, '10111': 36, '11000': 57, '11001': 23, '11010': 21, '11011': 16, '11100': 240, '11101': 51, '11110': 36, '11111': 15}\n",
      "avg_z = -0.29411764705882354\n",
      "\n",
      "theta = 3.141592653589793, phi = 0.0\n",
      "Run = 0\n",
      "{'00000': 18, '00001': 19, '00010': 14, '00011': 5, '00100': 57, '00101': 58, '00110': 30, '00111': 34, '01000': 9, '01001': 22, '01010': 11, '01011': 5, '01100': 36, '01101': 93, '01110': 11, '01111': 22, '10000': 35, '10001': 19, '10010': 26, '10011': 17, '10100': 91, '10101': 33, '10110': 35, '10111': 22, '11000': 36, '11001': 21, '11010': 21, '11011': 16, '11100': 117, '11101': 27, '11110': 24, '11111': 16}\n",
      "avg_z = -0.09273182957393483\n",
      "\n"
     ]
    }
   ],
   "source": [
    "# Analyze results.\n",
    "avg_zs_starmon = []\n",
    "\n",
    "for i, jobs_theta in enumerate(jobs):\n",
    "    avg_theta = []\n",
    "    \n",
    "    for k, jobs_phi in enumerate(jobs_theta):\n",
    "        print(f'theta = {thetas[i]}, phi = {phis[k]}')\n",
    "        \n",
    "        # Loop over runs.\n",
    "        avg_runs = []\n",
    "        for l, j in enumerate(jobs_phi):\n",
    "            result = j.result()\n",
    "            counts = result.get_counts()\n",
    "            plot_histogram(counts)\n",
    "            avg = 0\n",
    "            pop = 0\n",
    "            \n",
    "            # In a single run.\n",
    "            for bitstring in counts:\n",
    "                if bitstring[-2:] == '00': # Postselect.\n",
    "                    _bitstring = map_to_pm1(bitstring[:3])\n",
    "                    #print(bitstring)\n",
    "                    #print(_bitstring)\n",
    "                    #print(prod)\n",
    "                    prod = np.prod(_bitstring)\n",
    "                    avg += prod * counts[bitstring]\n",
    "                    pop += counts[bitstring]\n",
    "            \n",
    "            avg /= pop\n",
    "            avg_runs.append(avg)\n",
    "            print(f'Run = {l}')\n",
    "            print(counts)\n",
    "            print(f'avg_z = {avg}\\n')\n",
    "            \n",
    "        avg_theta.append(np.mean(avg_runs))\n",
    "    \n",
    "    avg_zs_starmon.append(avg_theta)"
   ]
  },
  {
   "cell_type": "code",
   "execution_count": 548,
   "id": "96b07d55-debe-41dc-bb21-b1e8a6129a3c",
   "metadata": {},
   "outputs": [
    {
     "data": {
      "text/plain": [
       "[[0.6860670194003528],\n",
       " [0.5951134380453752],\n",
       " [0.4426229508196721],\n",
       " [0.5885416666666666],\n",
       " [0.5720930232558139],\n",
       " [0.3639344262295082],\n",
       " [0.2908704883227176],\n",
       " [0.23316062176165803],\n",
       " [0.26345609065155806],\n",
       " [0.15527950310559005],\n",
       " [0.24521072796934865],\n",
       " [0.06461538461538462],\n",
       " [-0.10344827586206896],\n",
       " [-0.29411764705882354],\n",
       " [-0.09273182957393483]]"
      ]
     },
     "execution_count": 548,
     "metadata": {},
     "output_type": "execute_result"
    }
   ],
   "source": [
    "avg_zs_starmon"
   ]
  },
  {
   "cell_type": "markdown",
   "id": "d8c82e10-f17b-472b-80c2-02acc93dfb0f",
   "metadata": {},
   "source": [
    "### $\\langle X \\rangle_L$ measurement"
   ]
  },
  {
   "cell_type": "markdown",
   "id": "b7726806-dbd3-42d6-8c41-029c41849ff1",
   "metadata": {},
   "source": [
    "### $\\theta = \\pi/2, \\phi \\in [0, 2\\pi]$"
   ]
  },
  {
   "cell_type": "code",
   "execution_count": 680,
   "id": "aa2ad1bd-8db4-4c11-84b3-25e66b0772d7",
   "metadata": {
    "jupyter": {
     "source_hidden": true
    },
    "tags": []
   },
   "outputs": [],
   "source": [
    "thetas = [np.pi/2]\n",
    "phis = np.linspace(0., 2*np.pi, 20)\n",
    "#phis = [0]\n",
    "circs = measure_logical_pauli(thetas, phis, op='x')\n",
    "\n",
    "from itertools import combinations\n",
    "pairs = combinations(range(5), 2)"
   ]
  },
  {
   "cell_type": "code",
   "execution_count": 682,
   "id": "047cd696-5d6b-4b1b-aa06-fe383527f203",
   "metadata": {
    "collapsed": true,
    "jupyter": {
     "outputs_hidden": true,
     "source_hidden": true
    },
    "tags": []
   },
   "outputs": [
    {
     "name": "stdout",
     "output_type": "stream",
     "text": [
      "error\n",
      "error\n",
      "error\n",
      "error\n",
      "error\n",
      "error\n",
      "error\n",
      "error\n",
      "error\n",
      "error\n",
      "error\n",
      "error\n",
      "error\n",
      "error\n",
      "error\n"
     ]
    }
   ],
   "source": [
    "# Add QI backend.\n",
    "#qi_backend = QI.get_backend('QX single-node simulator')\n",
    "qi_backend = QI.get_backend('Starmon-5')\n",
    "\n",
    "# Execute jobs.\n",
    "runs = 1\n",
    "shots = 1000\n",
    "jobs = []\n",
    "\n",
    "for circs_theta in circs:\n",
    "    jobs_theta = []\n",
    "    \n",
    "    for circ in circs_theta:\n",
    "        jobs_phi = []\n",
    "        \n",
    "        for run in range(runs):\n",
    "            try:\n",
    "                j = execute(circ, backend=qi_backend, shots=shots)\n",
    "                \n",
    "            except:\n",
    "                print('error')\n",
    "            jobs_phi.append(j)\n",
    "            \n",
    "        jobs_theta.append(jobs_phi)\n",
    "        \n",
    "    jobs.append(jobs_theta)"
   ]
  },
  {
   "cell_type": "code",
   "execution_count": null,
   "id": "1725287e-c430-4957-98c1-abb06b624b03",
   "metadata": {
    "jupyter": {
     "source_hidden": true
    },
    "tags": []
   },
   "outputs": [],
   "source": [
    "# Analyze results.\n",
    "avg_xs_eqt_starmon = []\n",
    "\n",
    "for pair in pairs:\n",
    "    avg_xs_eqt_starmon_pair = []\n",
    "    \n",
    "    for i, jobs_theta in enumerate(jobs):\n",
    "        avg_theta = []\n",
    "\n",
    "        for k, jobs_phi in enumerate(jobs_theta):\n",
    "            print(f'theta = {thetas[i]}, phi = {phis[k]}')\n",
    "\n",
    "            # Loop over runs.\n",
    "            avg_runs = []\n",
    "            for l, j in enumerate(jobs_phi):\n",
    "                result = j.result()\n",
    "                counts = result.get_counts()\n",
    "                plot_histogram(counts)\n",
    "                avg = 0\n",
    "                pop = 0\n",
    "\n",
    "                # In a single run.\n",
    "                for bitstring in counts:\n",
    "                    if bitstring[pair[0]] + bitstring[pair[1]] == '00': # Postselect.\n",
    "                        _bitstring = map_to_pm1(bitstring[:3])\n",
    "                        #print(bitstring)\n",
    "                        #print(_bitstring)\n",
    "                        #print(prod)\n",
    "                        prod = np.prod(_bitstring)\n",
    "                        avg += prod * counts[bitstring]\n",
    "                        pop += counts[bitstring]\n",
    "\n",
    "                avg /= pop\n",
    "                avg_runs.append(avg)\n",
    "                print(f'Run = {l}')\n",
    "                print(counts)\n",
    "                print(f'avg_x = {avg}\\n')\n",
    "\n",
    "            avg_theta.append(np.mean(avg_runs))\n",
    "\n",
    "        avg_xs_eqt_starmon_pair.append(avg_theta)\n",
    "    \n",
    "    avg_xs_eqt_starmon.append(avg_xs_eqt_starmon_pair)"
   ]
  },
  {
   "cell_type": "code",
   "execution_count": 560,
   "id": "33216cbd-ac92-45bd-9bf0-ebfa1c3cdbcb",
   "metadata": {
    "tags": []
   },
   "outputs": [
    {
     "data": {
      "text/plain": [
       "[[-0.11294765840220386,\n",
       "  -0.034666666666666665,\n",
       "  -0.08235294117647059,\n",
       "  -0.2966101694915254,\n",
       "  -0.16666666666666666,\n",
       "  -0.26627218934911245,\n",
       "  -0.27230046948356806,\n",
       "  -0.13274336283185842,\n",
       "  0.006342494714587738,\n",
       "  0.032397408207343416,\n",
       "  0.0273224043715847,\n",
       "  -0.031446540880503145,\n",
       "  0.0830945558739255,\n",
       "  0.2781456953642384,\n",
       "  0.2079646017699115,\n",
       "  0.1506849315068493,\n",
       "  0.3221601489757914,\n",
       "  0.2265193370165746,\n",
       "  -0.09006928406466513,\n",
       "  -0.039832285115303984]]"
      ]
     },
     "execution_count": 560,
     "metadata": {},
     "output_type": "execute_result"
    }
   ],
   "source": [
    "avg_xs_eqt_starmon"
   ]
  },
  {
   "cell_type": "markdown",
   "id": "8cb3a099-1d43-4e47-88b2-870cb6e7d20c",
   "metadata": {
    "tags": []
   },
   "source": [
    "### $\\theta \\in [0, \\pi], \\phi = 0$"
   ]
  },
  {
   "cell_type": "code",
   "execution_count": 561,
   "id": "fd2b921b-752b-4f1f-8ea7-da3799f6b988",
   "metadata": {
    "jupyter": {
     "source_hidden": true
    },
    "tags": []
   },
   "outputs": [],
   "source": [
    "thetas = np.linspace(0., np.pi, 15)\n",
    "phis = [0.]\n",
    "circs = measure_logical_pauli(thetas, phis, op='x')"
   ]
  },
  {
   "cell_type": "code",
   "execution_count": 562,
   "id": "978d7358-ba38-4a9e-8bf8-54db17d8a9e6",
   "metadata": {
    "jupyter": {
     "source_hidden": true
    },
    "tags": []
   },
   "outputs": [],
   "source": [
    "# Add QI backend.\n",
    "#qi_backend = QI.get_backend('QX single-node simulator')\n",
    "qi_backend = QI.get_backend('Starmon-5')\n",
    "\n",
    "# Execute jobs.\n",
    "runs = 1\n",
    "shots = 1000\n",
    "jobs = []\n",
    "\n",
    "for circs_theta in circs:\n",
    "    jobs_theta = []\n",
    "    \n",
    "    for circ in circs_theta:\n",
    "        jobs_phi = []\n",
    "        \n",
    "        for run in range(runs):\n",
    "            j = execute(circ, backend=qi_backend, shots=shots)\n",
    "            jobs_phi.append(j)\n",
    "            \n",
    "        jobs_theta.append(jobs_phi)\n",
    "        \n",
    "    jobs.append(jobs_theta)"
   ]
  },
  {
   "cell_type": "code",
   "execution_count": 571,
   "id": "ab257d7e-5a7b-4599-a3ff-f4f276e116bc",
   "metadata": {
    "collapsed": true,
    "jupyter": {
     "outputs_hidden": true,
     "source_hidden": true
    },
    "tags": []
   },
   "outputs": [
    {
     "name": "stdout",
     "output_type": "stream",
     "text": [
      "theta = 0.0, phi = 0.0\n",
      "Run = 0\n",
      "{'00000': 99, '00001': 33, '00010': 30, '00011': 20, '00100': 38, '00101': 24, '00110': 15, '00111': 8, '01000': 67, '01001': 26, '01010': 27, '01011': 15, '01100': 34, '01101': 26, '01110': 13, '01111': 11, '10000': 79, '10001': 42, '10010': 61, '10011': 28, '10100': 50, '10101': 23, '10110': 27, '10111': 10, '11000': 68, '11001': 23, '11010': 28, '11011': 17, '11100': 22, '11101': 9, '11110': 15, '11111': 12}\n",
      "avg_x = 0.09846827133479212\n",
      "\n",
      "theta = 0.2243994752564138, phi = 0.0\n",
      "Run = 0\n",
      "{'00000': 83, '00001': 34, '00010': 38, '00011': 29, '00100': 34, '00101': 11, '00110': 18, '00111': 8, '01000': 84, '01001': 35, '01010': 36, '01011': 30, '01100': 34, '01101': 20, '01110': 14, '01111': 12, '10000': 68, '10001': 28, '10010': 35, '10011': 27, '10100': 38, '10101': 11, '10110': 12, '10111': 9, '11000': 98, '11001': 16, '11010': 38, '11011': 28, '11100': 36, '11101': 9, '11110': 13, '11111': 14}\n",
      "avg_x = 0.06526315789473684\n",
      "\n",
      "theta = 0.4487989505128276, phi = 0.0\n",
      "Run = 0\n",
      "{'00000': 86, '00001': 43, '00010': 20, '00011': 21, '00100': 61, '00101': 19, '00110': 8, '00111': 6, '01000': 104, '01001': 41, '01010': 26, '01011': 13, '01100': 41, '01101': 23, '01110': 11, '01111': 9, '10000': 83, '10001': 29, '10010': 32, '10011': 14, '10100': 40, '10101': 14, '10110': 16, '10111': 10, '11000': 78, '11001': 42, '11010': 20, '11011': 16, '11100': 39, '11101': 12, '11110': 17, '11111': 6}\n",
      "avg_x = -0.07894736842105263\n",
      "\n",
      "theta = 0.6731984257692414, phi = 0.0\n",
      "Run = 0\n",
      "{'00000': 70, '00001': 37, '00010': 23, '00011': 11, '00100': 55, '00101': 17, '00110': 14, '00111': 17, '01000': 73, '01001': 52, '01010': 26, '01011': 14, '01100': 69, '01101': 38, '01110': 11, '01111': 14, '10000': 79, '10001': 31, '10010': 34, '10011': 20, '10100': 37, '10101': 8, '10110': 17, '10111': 13, '11000': 58, '11001': 19, '11010': 15, '11011': 19, '11100': 68, '11101': 15, '11110': 19, '11111': 7}\n",
      "avg_x = -0.08055009823182711\n",
      "\n",
      "theta = 0.8975979010256552, phi = 0.0\n",
      "Run = 0\n",
      "{'00000': 72, '00001': 29, '00010': 16, '00011': 7, '00100': 79, '00101': 43, '00110': 15, '00111': 15, '01000': 57, '01001': 24, '01010': 14, '01011': 10, '01100': 45, '01101': 50, '01110': 10, '01111': 7, '10000': 95, '10001': 20, '10010': 26, '10011': 12, '10100': 85, '10101': 18, '10110': 34, '10111': 18, '11000': 49, '11001': 6, '11010': 10, '11011': 8, '11100': 72, '11101': 21, '11110': 25, '11111': 8}\n",
      "avg_x = -0.09386281588447654\n",
      "\n",
      "theta = 1.121997376282069, phi = 0.0\n",
      "Run = 0\n",
      "{'00000': 148, '00001': 46, '00010': 19, '00011': 8, '00100': 57, '00101': 21, '00110': 8, '00111': 2, '01000': 85, '01001': 30, '01010': 15, '01011': 10, '01100': 41, '01101': 18, '01110': 12, '01111': 3, '10000': 106, '10001': 27, '10010': 33, '10011': 11, '10100': 41, '10101': 25, '10110': 14, '10111': 14, '11000': 76, '11001': 34, '11010': 20, '11011': 14, '11100': 29, '11101': 13, '11110': 9, '11111': 11}\n",
      "avg_x = 0.04974271012006861\n",
      "\n",
      "theta = 1.3463968515384828, phi = 0.0\n",
      "Run = 0\n",
      "{'00000': 43, '00001': 35, '00010': 24, '00011': 13, '00100': 70, '00101': 38, '00110': 28, '00111': 9, '01000': 42, '01001': 28, '01010': 15, '01011': 5, '01100': 52, '01101': 43, '01110': 15, '01111': 10, '10000': 97, '10001': 26, '10010': 29, '10011': 9, '10100': 64, '10101': 20, '10110': 23, '10111': 18, '11000': 60, '11001': 15, '11010': 17, '11011': 4, '11100': 91, '11101': 20, '11110': 26, '11111': 11}\n",
      "avg_x = -0.15606936416184972\n",
      "\n",
      "theta = 1.5707963267948966, phi = 0.0\n",
      "Run = 0\n",
      "{'00000': 87, '00001': 41, '00010': 22, '00011': 12, '00100': 53, '00101': 23, '00110': 16, '00111': 13, '01000': 67, '01001': 30, '01010': 14, '01011': 13, '01100': 44, '01101': 32, '01110': 16, '01111': 7, '10000': 75, '10001': 52, '10010': 29, '10011': 15, '10100': 62, '10101': 25, '10110': 21, '10111': 17, '11000': 70, '11001': 25, '11010': 24, '11011': 19, '11100': 27, '11101': 26, '11110': 13, '11111': 10}\n",
      "avg_x = 0.08453608247422681\n",
      "\n",
      "theta = 1.7951958020513104, phi = 0.0\n",
      "Run = 0\n",
      "{'00000': 63, '00001': 48, '00010': 27, '00011': 19, '00100': 55, '00101': 31, '00110': 8, '00111': 19, '01000': 47, '01001': 34, '01010': 16, '01011': 10, '01100': 36, '01101': 49, '01110': 12, '01111': 11, '10000': 66, '10001': 43, '10010': 22, '10011': 24, '10100': 62, '10101': 28, '10110': 20, '10111': 18, '11000': 64, '11001': 33, '11010': 22, '11011': 10, '11100': 44, '11101': 29, '11110': 11, '11111': 19}\n",
      "avg_x = 0.029748283752860413\n",
      "\n",
      "theta = 2.019595277307724, phi = 0.0\n",
      "Run = 0\n",
      "{'00000': 37, '00001': 57, '00010': 19, '00011': 24, '00100': 44, '00101': 65, '00110': 15, '00111': 23, '01000': 49, '01001': 43, '01010': 14, '01011': 26, '01100': 42, '01101': 45, '01110': 12, '01111': 24, '10000': 68, '10001': 37, '10010': 20, '10011': 14, '10100': 50, '10101': 18, '10110': 25, '10111': 20, '11000': 45, '11001': 15, '11010': 13, '11011': 15, '11100': 68, '11101': 17, '11110': 25, '11111': 11}\n",
      "avg_x = -0.13647642679900746\n",
      "\n",
      "theta = 2.243994752564138, phi = 0.0\n",
      "Run = 0\n",
      "{'00000': 29, '00001': 49, '00010': 16, '00011': 13, '00100': 65, '00101': 59, '00110': 23, '00111': 33, '01000': 36, '01001': 41, '01010': 7, '01011': 6, '01100': 34, '01101': 49, '01110': 13, '01111': 22, '10000': 65, '10001': 31, '10010': 25, '10011': 13, '10100': 69, '10101': 36, '10110': 36, '10111': 16, '11000': 49, '11001': 20, '11010': 17, '11011': 7, '11100': 76, '11101': 12, '11110': 20, '11111': 13}\n",
      "avg_x = -0.14420803782505912\n",
      "\n",
      "theta = 2.4683942278205517, phi = 0.0\n",
      "Run = 0\n",
      "{'00000': 84, '00001': 35, '00010': 23, '00011': 14, '00100': 38, '00101': 25, '00110': 6, '00111': 13, '01000': 51, '01001': 33, '01010': 20, '01011': 15, '01100': 36, '01101': 32, '01110': 16, '01111': 14, '10000': 75, '10001': 48, '10010': 28, '10011': 18, '10100': 75, '10101': 31, '10110': 24, '10111': 12, '11000': 78, '11001': 28, '11010': 22, '11011': 8, '11100': 43, '11101': 22, '11110': 20, '11111': 13}\n",
      "avg_x = 0.1375\n",
      "\n",
      "theta = 2.6927937030769655, phi = 0.0\n",
      "Run = 0\n",
      "{'00000': 66, '00001': 37, '00010': 24, '00011': 19, '00100': 42, '00101': 21, '00110': 12, '00111': 16, '01000': 54, '01001': 44, '01010': 26, '01011': 25, '01100': 37, '01101': 46, '01110': 19, '01111': 13, '10000': 59, '10001': 30, '10010': 20, '10011': 26, '10100': 38, '10101': 28, '10110': 15, '10111': 19, '11000': 59, '11001': 48, '11010': 21, '11011': 16, '11100': 50, '11101': 35, '11110': 18, '11111': 17}\n",
      "avg_x = -0.012345679012345678\n",
      "\n",
      "theta = 2.9171931783333793, phi = 0.0\n",
      "Run = 0\n",
      "{'00000': 78, '00001': 29, '00010': 26, '00011': 25, '00100': 67, '00101': 43, '00110': 6, '00111': 17, '01000': 50, '01001': 57, '01010': 13, '01011': 18, '01100': 40, '01101': 33, '01110': 16, '01111': 10, '10000': 78, '10001': 35, '10010': 17, '10011': 18, '10100': 48, '10101': 18, '10110': 12, '10111': 12, '11000': 58, '11001': 33, '11010': 23, '11011': 22, '11100': 45, '11101': 27, '11110': 16, '11111': 10}\n",
      "avg_x = -0.034482758620689655\n",
      "\n",
      "theta = 3.141592653589793, phi = 0.0\n",
      "Run = 0\n",
      "{'00000': 65, '00001': 49, '00010': 14, '00011': 19, '00100': 44, '00101': 30, '00110': 11, '00111': 20, '01000': 52, '01001': 59, '01010': 18, '01011': 18, '01100': 21, '01101': 30, '01110': 12, '01111': 13, '10000': 80, '10001': 50, '10010': 18, '10011': 24, '10100': 49, '10101': 31, '10110': 11, '10111': 15, '11000': 57, '11001': 45, '11010': 22, '11011': 14, '11100': 56, '11101': 24, '11110': 16, '11111': 13}\n",
      "avg_x = -0.09433962264150944\n",
      "\n"
     ]
    }
   ],
   "source": [
    "# Analyze results.\n",
    "avg_xs_starmon = []\n",
    "\n",
    "for i, jobs_theta in enumerate(jobs):\n",
    "    avg_theta = []\n",
    "    \n",
    "    for k, jobs_phi in enumerate(jobs_theta):\n",
    "        print(f'theta = {thetas[i]}, phi = {phis[k]}')\n",
    "        \n",
    "        # Loop over runs.\n",
    "        avg_runs = []\n",
    "        for l, j in enumerate(jobs_phi):\n",
    "            result = j.result()\n",
    "            counts = result.get_counts()\n",
    "            plot_histogram(counts)\n",
    "            avg = 0\n",
    "            pop = 0\n",
    "            \n",
    "            # In a single run.\n",
    "            for bitstring in counts:\n",
    "                if bitstring[-2:] == '00': # Postselect.\n",
    "                    _bitstring = map_to_pm1(bitstring[:3])\n",
    "                    #print(bitstring)\n",
    "                    #print(_bitstring)\n",
    "                    #print(prod)\n",
    "                    prod = np.prod(_bitstring)\n",
    "                    avg += prod * counts[bitstring]\n",
    "                    pop += counts[bitstring]\n",
    "            \n",
    "            avg /= pop\n",
    "            avg_runs.append(avg)\n",
    "            print(f'Run = {l}')\n",
    "            print(counts)\n",
    "            print(f'avg_x = {avg}\\n')\n",
    "            \n",
    "        avg_theta.append(np.mean(avg_runs))\n",
    "    \n",
    "    avg_xs_starmon.append(avg_theta)"
   ]
  },
  {
   "cell_type": "code",
   "execution_count": 566,
   "id": "6e411e8a-e637-48d7-a5c6-54f26861979d",
   "metadata": {
    "tags": []
   },
   "outputs": [
    {
     "data": {
      "text/plain": [
       "[[0.18352059925093633],\n",
       " [0.10588235294117647],\n",
       " [0.015151515151515152],\n",
       " [-0.08196721311475409],\n",
       " [-0.007246376811594203],\n",
       " [0.19741100323624594],\n",
       " [-0.06153846153846154],\n",
       " [0.033707865168539325],\n",
       " [-0.1037037037037037],\n",
       " [-0.007042253521126761],\n",
       " [-0.13588850174216027],\n",
       " [0.08403361344537816],\n",
       " [-0.004219409282700422],\n",
       " [0.044673539518900345],\n",
       " [-0.007936507936507936]]"
      ]
     },
     "execution_count": 570,
     "metadata": {},
     "output_type": "execute_result"
    }
   ],
   "source": [
    "avg_xs_starmon"
   ]
  },
  {
   "cell_type": "markdown",
   "id": "fc3c0514-2923-4d99-8dca-4ae7c6ccc1ca",
   "metadata": {},
   "source": [
    "### $\\langle Y \\rangle_L$ measurement"
   ]
  },
  {
   "cell_type": "markdown",
   "id": "4306f6ea-2a15-415a-816d-c161e04bb61d",
   "metadata": {},
   "source": [
    "### $\\theta = \\pi/2, \\phi \\in [0, 2\\pi]$"
   ]
  },
  {
   "cell_type": "code",
   "execution_count": 647,
   "id": "d095df48-2216-4a96-8200-f2de56781a63",
   "metadata": {
    "jupyter": {
     "source_hidden": true
    },
    "tags": []
   },
   "outputs": [],
   "source": [
    "thetas = [np.pi/2]\n",
    "phis = np.linspace(0., 2*np.pi, 20)\n",
    "circs = measure_logical_pauli(thetas, phis, op='y')"
   ]
  },
  {
   "cell_type": "code",
   "execution_count": 648,
   "id": "35a04cfc-dc98-4a39-81b4-e5f76c2267ad",
   "metadata": {
    "jupyter": {
     "source_hidden": true
    },
    "tags": []
   },
   "outputs": [],
   "source": [
    "# Add QI backend.\n",
    "#qi_backend = QI.get_backend('QX single-node simulator')\n",
    "qi_backend = QI.get_backend('Starmon-5')\n",
    "\n",
    "# Execute jobs.\n",
    "runs = 1\n",
    "shots = 1000\n",
    "jobs = []\n",
    "\n",
    "for circs_theta in circs:\n",
    "    jobs_theta = []\n",
    "    \n",
    "    for circ in circs_theta:\n",
    "        jobs_phi = []\n",
    "        \n",
    "        for run in range(runs):\n",
    "            j = execute(circ, backend=qi_backend, shots=shots)\n",
    "            jobs_phi.append(j)\n",
    "            \n",
    "        jobs_theta.append(jobs_phi)\n",
    "        \n",
    "    jobs.append(jobs_theta)"
   ]
  },
  {
   "cell_type": "code",
   "execution_count": 649,
   "id": "e5eff85f-c320-4809-8e35-ae1573659610",
   "metadata": {
    "collapsed": true,
    "jupyter": {
     "outputs_hidden": true,
     "source_hidden": true
    },
    "tags": []
   },
   "outputs": [
    {
     "name": "stdout",
     "output_type": "stream",
     "text": [
      "theta = 1.5707963267948966, phi = 0.0\n",
      "Run = 0\n",
      "{'00000': 93, '00001': 35, '00010': 47, '00011': 18, '00100': 21, '00101': 18, '00110': 24, '00111': 19, '01000': 45, '01001': 19, '01010': 20, '01011': 11, '01100': 33, '01101': 39, '01110': 20, '01111': 10, '10000': 52, '10001': 38, '10010': 34, '10011': 17, '10100': 46, '10101': 33, '10110': 38, '10111': 30, '11000': 57, '11001': 23, '11010': 42, '11011': 37, '11100': 22, '11101': 20, '11110': 28, '11111': 11}\n",
      "avg_x = 0.24119241192411925\n",
      "\n",
      "theta = 1.5707963267948966, phi = 0.3306939635357677\n",
      "Run = 0\n",
      "{'00000': 100, '00001': 58, '00010': 23, '00011': 16, '00100': 47, '00101': 27, '00110': 12, '00111': 11, '01000': 38, '01001': 40, '01010': 11, '01011': 12, '01100': 60, '01101': 43, '01110': 12, '01111': 17, '10000': 43, '10001': 45, '10010': 18, '10011': 13, '10100': 67, '10101': 47, '10110': 17, '10111': 21, '11000': 69, '11001': 48, '11010': 13, '11011': 14, '11100': 30, '11101': 13, '11110': 5, '11111': 10}\n",
      "avg_x = 0.3039647577092511\n",
      "\n",
      "theta = 1.5707963267948966, phi = 0.6613879270715354\n",
      "Run = 0\n",
      "{'00000': 63, '00001': 41, '00010': 34, '00011': 37, '00100': 32, '00101': 29, '00110': 13, '00111': 19, '01000': 41, '01001': 45, '01010': 13, '01011': 34, '01100': 44, '01101': 31, '01110': 22, '01111': 25, '10000': 58, '10001': 30, '10010': 27, '10011': 29, '10100': 38, '10101': 30, '10110': 27, '10111': 28, '11000': 42, '11001': 27, '11010': 33, '11011': 29, '11100': 30, '11101': 19, '11110': 11, '11111': 19}\n",
      "avg_x = 0.07471264367816093\n",
      "\n",
      "theta = 1.5707963267948966, phi = 0.992081890607303\n",
      "Run = 0\n",
      "{'00000': 86, '00001': 46, '00010': 21, '00011': 15, '00100': 41, '00101': 26, '00110': 14, '00111': 18, '01000': 42, '01001': 27, '01010': 22, '01011': 16, '01100': 52, '01101': 48, '01110': 24, '01111': 9, '10000': 45, '10001': 34, '10010': 23, '10011': 22, '10100': 74, '10101': 32, '10110': 24, '10111': 22, '11000': 57, '11001': 32, '11010': 29, '11011': 23, '11100': 24, '11101': 17, '11110': 18, '11111': 17}\n",
      "avg_x = 0.27790973871733965\n",
      "\n",
      "theta = 1.5707963267948966, phi = 1.3227758541430708\n",
      "Run = 0\n",
      "{'00000': 90, '00001': 51, '00010': 16, '00011': 15, '00100': 41, '00101': 32, '00110': 7, '00111': 6, '01000': 46, '01001': 22, '01010': 13, '01011': 13, '01100': 71, '01101': 41, '01110': 8, '01111': 16, '10000': 55, '10001': 37, '10010': 25, '10011': 11, '10100': 85, '10101': 37, '10110': 15, '10111': 20, '11000': 85, '11001': 39, '11010': 19, '11011': 12, '11100': 30, '11101': 22, '11110': 8, '11111': 12}\n",
      "avg_x = 0.31610337972166996\n",
      "\n",
      "theta = 1.5707963267948966, phi = 1.6534698176788385\n",
      "Run = 0\n",
      "{'00000': 67, '00001': 32, '00010': 19, '00011': 26, '00100': 26, '00101': 16, '00110': 3, '00111': 14, '01000': 94, '01001': 60, '01010': 35, '01011': 39, '01100': 37, '01101': 33, '01110': 16, '01111': 13, '10000': 66, '10001': 27, '10010': 22, '10011': 17, '10100': 29, '10101': 7, '10110': 11, '10111': 8, '11000': 78, '11001': 45, '11010': 15, '11011': 31, '11100': 48, '11101': 30, '11110': 21, '11111': 15}\n",
      "avg_x = -0.051685393258426963\n",
      "\n",
      "theta = 1.5707963267948966, phi = 1.984163781214606\n",
      "Run = 0\n",
      "{'00000': 103, '00001': 44, '00010': 30, '00011': 20, '00100': 61, '00101': 20, '00110': 12, '00111': 3, '01000': 67, '01001': 47, '01010': 25, '01011': 24, '01100': 46, '01101': 22, '01110': 14, '01111': 5, '10000': 84, '10001': 44, '10010': 21, '10011': 19, '10100': 59, '10101': 20, '10110': 13, '10111': 11, '11000': 77, '11001': 25, '11010': 17, '11011': 19, '11100': 24, '11101': 14, '11110': 5, '11111': 5}\n",
      "avg_x = 0.09404990403071017\n",
      "\n",
      "theta = 1.5707963267948966, phi = 2.3148577447503738\n",
      "Run = 0\n",
      "{'00000': 65, '00001': 56, '00010': 12, '00011': 13, '00100': 60, '00101': 41, '00110': 11, '00111': 8, '01000': 52, '01001': 44, '01010': 15, '01011': 21, '01100': 33, '01101': 50, '01110': 4, '01111': 16, '10000': 70, '10001': 58, '10010': 34, '10011': 36, '10100': 26, '10101': 41, '10110': 15, '10111': 25, '11000': 47, '11001': 32, '11010': 19, '11011': 21, '11100': 26, '11101': 33, '11110': 10, '11111': 6}\n",
      "avg_x = -0.09762532981530343\n",
      "\n",
      "theta = 1.5707963267948966, phi = 2.6455517082861415\n",
      "Run = 0\n",
      "{'00000': 55, '00001': 15, '00010': 27, '00011': 7, '00100': 122, '00101': 23, '00110': 16, '00111': 13, '01000': 64, '01001': 17, '01010': 23, '01011': 7, '01100': 56, '01101': 20, '01110': 15, '01111': 5, '10000': 62, '10001': 10, '10010': 50, '10011': 14, '10100': 68, '10101': 16, '10110': 40, '10111': 7, '11000': 30, '11001': 14, '11010': 30, '11011': 7, '11100': 95, '11101': 24, '11110': 37, '11111': 11}\n",
      "avg_x = -0.2427536231884058\n",
      "\n",
      "theta = 1.5707963267948966, phi = 2.9762456718219092\n",
      "Run = 0\n",
      "{'00000': 46, '00001': 41, '00010': 17, '00011': 15, '00100': 93, '00101': 61, '00110': 18, '00111': 14, '01000': 44, '01001': 47, '01010': 18, '01011': 16, '01100': 30, '01101': 20, '01110': 10, '01111': 17, '10000': 67, '10001': 44, '10010': 21, '10011': 14, '10100': 68, '10101': 26, '10110': 21, '10111': 19, '11000': 29, '11001': 21, '11010': 20, '11011': 11, '11100': 74, '11101': 28, '11110': 17, '11111': 13}\n",
      "avg_x = -0.2328159645232816\n",
      "\n",
      "theta = 1.5707963267948966, phi = 3.306939635357677\n",
      "Run = 0\n",
      "{'00000': 48, '00001': 14, '00010': 14, '00011': 7, '00100': 85, '00101': 39, '00110': 26, '00111': 8, '01000': 64, '01001': 29, '01010': 17, '01011': 9, '01100': 41, '01101': 27, '01110': 25, '01111': 4, '10000': 89, '10001': 19, '10010': 53, '10011': 12, '10100': 81, '10101': 23, '10110': 31, '10111': 6, '11000': 28, '11001': 15, '11010': 18, '11011': 13, '11100': 103, '11101': 17, '11110': 22, '11111': 13}\n",
      "avg_x = -0.2653061224489796\n",
      "\n",
      "theta = 1.5707963267948966, phi = 3.6376335988934447\n",
      "Run = 0\n",
      "{'00000': 48, '00001': 29, '00010': 28, '00011': 27, '00100': 49, '00101': 41, '00110': 14, '00111': 28, '01000': 56, '01001': 62, '01010': 18, '01011': 23, '01100': 32, '01101': 19, '01110': 17, '01111': 23, '10000': 51, '10001': 51, '10010': 43, '10011': 37, '10100': 33, '10101': 32, '10110': 10, '10111': 22, '11000': 36, '11001': 24, '11010': 18, '11011': 21, '11100': 48, '11101': 23, '11110': 24, '11111': 13}\n",
      "avg_x = -0.1558073654390935\n",
      "\n",
      "theta = 1.5707963267948966, phi = 3.968327562429212\n",
      "Run = 0\n",
      "{'00000': 53, '00001': 30, '00010': 33, '00011': 41, '00100': 42, '00101': 29, '00110': 25, '00111': 27, '01000': 56, '01001': 47, '01010': 30, '01011': 32, '01100': 18, '01101': 24, '01110': 28, '01111': 27, '10000': 49, '10001': 30, '10010': 39, '10011': 43, '10100': 18, '10101': 18, '10110': 17, '10111': 25, '11000': 25, '11001': 20, '11010': 26, '11011': 38, '11100': 38, '11101': 24, '11110': 33, '11111': 15}\n",
      "avg_x = -0.23745819397993312\n",
      "\n",
      "theta = 1.5707963267948966, phi = 4.29902152596498\n",
      "Run = 0\n",
      "{'00000': 56, '00001': 39, '00010': 17, '00011': 16, '00100': 81, '00101': 81, '00110': 22, '00111': 25, '01000': 30, '01001': 46, '01010': 8, '01011': 9, '01100': 46, '01101': 19, '01110': 12, '01111': 11, '10000': 83, '10001': 26, '10010': 19, '10011': 9, '10100': 82, '10101': 40, '10110': 30, '10111': 21, '11000': 48, '11001': 14, '11010': 7, '11011': 5, '11100': 51, '11101': 26, '11110': 12, '11111': 9}\n",
      "avg_x = -0.027253668763102725\n",
      "\n",
      "theta = 1.5707963267948966, phi = 4.6297154895007475\n",
      "Run = 0\n",
      "{'00000': 68, '00001': 52, '00010': 14, '00011': 12, '00100': 72, '00101': 70, '00110': 21, '00111': 22, '01000': 29, '01001': 31, '01010': 12, '01011': 12, '01100': 63, '01101': 30, '01110': 16, '01111': 13, '10000': 66, '10001': 30, '10010': 18, '10011': 11, '10100': 77, '10101': 33, '10110': 19, '10111': 19, '11000': 46, '11001': 17, '11010': 14, '11011': 9, '11100': 49, '11101': 21, '11110': 20, '11111': 14}\n",
      "avg_x = 0.08085106382978724\n",
      "\n",
      "theta = 1.5707963267948966, phi = 4.960409453036515\n",
      "Run = 0\n",
      "{'00000': 64, '00001': 70, '00010': 19, '00011': 21, '00100': 70, '00101': 56, '00110': 17, '00111': 22, '01000': 29, '01001': 43, '01010': 7, '01011': 3, '01100': 40, '01101': 30, '01110': 15, '01111': 10, '10000': 57, '10001': 27, '10010': 19, '10011': 18, '10100': 109, '10101': 36, '10110': 28, '10111': 21, '11000': 45, '11001': 15, '11010': 16, '11011': 5, '11100': 42, '11101': 22, '11110': 18, '11111': 6}\n",
      "avg_x = 0.13157894736842105\n",
      "\n",
      "theta = 1.5707963267948966, phi = 5.291103416572283\n",
      "Run = 0\n",
      "{'00000': 55, '00001': 54, '00010': 25, '00011': 20, '00100': 37, '00101': 32, '00110': 21, '00111': 25, '01000': 54, '01001': 36, '01010': 18, '01011': 24, '01100': 36, '01101': 37, '01110': 18, '01111': 10, '10000': 49, '10001': 48, '10010': 36, '10011': 25, '10100': 43, '10101': 29, '10110': 18, '10111': 21, '11000': 69, '11001': 32, '11010': 28, '11011': 21, '11100': 27, '11101': 23, '11110': 13, '11111': 16}\n",
      "avg_x = 0.0972972972972973\n",
      "\n",
      "theta = 1.5707963267948966, phi = 5.621797380108051\n",
      "Run = 0\n",
      "{'00000': 86, '00001': 33, '00010': 18, '00011': 26, '00100': 26, '00101': 17, '00110': 14, '00111': 11, '01000': 73, '01001': 42, '01010': 21, '01011': 15, '01100': 60, '01101': 40, '01110': 24, '01111': 17, '10000': 47, '10001': 22, '10010': 21, '10011': 19, '10100': 51, '10101': 25, '10110': 13, '10111': 9, '11000': 113, '11001': 45, '11010': 23, '11011': 15, '11100': 28, '11101': 26, '11110': 11, '11111': 9}\n",
      "avg_x = 0.2809917355371901\n",
      "\n",
      "theta = 1.5707963267948966, phi = 5.9524913436438185\n",
      "Run = 0\n",
      "{'00000': 62, '00001': 73, '00010': 16, '00011': 29, '00100': 54, '00101': 68, '00110': 18, '00111': 19, '01000': 28, '01001': 14, '01010': 9, '01011': 15, '01100': 52, '01101': 42, '01110': 7, '01111': 5, '10000': 74, '10001': 27, '10010': 23, '10011': 14, '10100': 105, '10101': 32, '10110': 22, '10111': 16, '11000': 61, '11001': 14, '11010': 10, '11011': 9, '11100': 35, '11101': 22, '11110': 12, '11111': 13}\n",
      "avg_x = 0.18895966029723993\n",
      "\n",
      "theta = 1.5707963267948966, phi = 6.283185307179586\n",
      "Run = 0\n",
      "{'00000': 112, '00001': 50, '00010': 28, '00011': 14, '00100': 29, '00101': 24, '00110': 11, '00111': 9, '01000': 35, '01001': 29, '01010': 16, '01011': 11, '01100': 66, '01101': 37, '01110': 11, '01111': 12, '10000': 56, '10001': 39, '10010': 21, '10011': 13, '10100': 79, '10101': 41, '10110': 20, '10111': 19, '11000': 88, '11001': 33, '11010': 28, '11011': 10, '11100': 30, '11101': 20, '11110': 4, '11111': 5}\n",
      "avg_x = 0.3939393939393939\n",
      "\n"
     ]
    }
   ],
   "source": [
    "# Analyze results.\n",
    "avg_ys_eqt_starmon = []\n",
    "\n",
    "for i, jobs_theta in enumerate(jobs):\n",
    "    avg_theta = []\n",
    "    \n",
    "    for k, jobs_phi in enumerate(jobs_theta):\n",
    "        print(f'theta = {thetas[i]}, phi = {phis[k]}')\n",
    "        \n",
    "        # Loop over runs.\n",
    "        avg_runs = []\n",
    "        for l, j in enumerate(jobs_phi):\n",
    "            result = j.result()\n",
    "            counts = result.get_counts()\n",
    "            plot_histogram(counts)\n",
    "            avg = 0\n",
    "            pop = 0\n",
    "            \n",
    "            # In a single run.\n",
    "            for bitstring in counts:\n",
    "                if bitstring[-2:] == '00': # Postselect.\n",
    "                    _bitstring = map_to_pm1(bitstring[:3])\n",
    "                    #print(bitstring)\n",
    "                    #print(_bitstring)\n",
    "                    #print(prod)\n",
    "                    prod = np.prod(_bitstring)\n",
    "                    avg += prod * counts[bitstring]\n",
    "                    pop += counts[bitstring]\n",
    "            \n",
    "            avg /= pop\n",
    "            avg_runs.append(avg)\n",
    "            print(f'Run = {l}')\n",
    "            print(counts)\n",
    "            print(f'avg_x = {avg}\\n')\n",
    "            \n",
    "        avg_theta.append(np.mean(avg_runs))\n",
    "    \n",
    "    avg_ys_eqt_starmon.append(avg_theta)"
   ]
  },
  {
   "cell_type": "code",
   "execution_count": 652,
   "id": "fc1021c1-f5be-4989-b0df-11aac6021490",
   "metadata": {
    "tags": []
   },
   "outputs": [
    {
     "data": {
      "text/plain": [
       "[[0.24119241192411925,\n",
       "  0.3039647577092511,\n",
       "  0.07471264367816093,\n",
       "  0.27790973871733965,\n",
       "  0.31610337972166996,\n",
       "  -0.051685393258426963,\n",
       "  0.09404990403071017,\n",
       "  -0.09762532981530343,\n",
       "  -0.2427536231884058,\n",
       "  -0.2328159645232816,\n",
       "  -0.2653061224489796,\n",
       "  -0.1558073654390935,\n",
       "  -0.23745819397993312,\n",
       "  -0.027253668763102725,\n",
       "  0.08085106382978724,\n",
       "  0.13157894736842105,\n",
       "  0.0972972972972973,\n",
       "  0.2809917355371901,\n",
       "  0.18895966029723993,\n",
       "  0.3939393939393939]]"
      ]
     },
     "execution_count": 652,
     "metadata": {},
     "output_type": "execute_result"
    }
   ],
   "source": [
    "avg_ys_eqt_starmon"
   ]
  },
  {
   "cell_type": "markdown",
   "id": "20aeb209-6df3-4e12-b7e5-e9dec2446168",
   "metadata": {
    "tags": []
   },
   "source": [
    "### $\\theta \\in [0, \\pi], \\phi = 0$"
   ]
  },
  {
   "cell_type": "code",
   "execution_count": 653,
   "id": "7b6a85ea-1662-4e90-87b8-f84510333d7d",
   "metadata": {
    "jupyter": {
     "source_hidden": true
    },
    "tags": []
   },
   "outputs": [],
   "source": [
    "thetas = np.linspace(0., np.pi, 15)\n",
    "phis = [0.]\n",
    "circs = measure_logical_pauli(thetas, phis, op='y')"
   ]
  },
  {
   "cell_type": "code",
   "execution_count": 654,
   "id": "5076df1c-ba59-4200-9489-254d6e12036c",
   "metadata": {
    "jupyter": {
     "source_hidden": true
    },
    "tags": []
   },
   "outputs": [],
   "source": [
    "# Add QI backend.\n",
    "#qi_backend = QI.get_backend('QX single-node simulator')\n",
    "qi_backend = QI.get_backend('Starmon-5')\n",
    "\n",
    "# Execute jobs.\n",
    "runs = 1\n",
    "shots = 1000\n",
    "jobs = []\n",
    "\n",
    "for circs_theta in circs:\n",
    "    jobs_theta = []\n",
    "    \n",
    "    for circ in circs_theta:\n",
    "        jobs_phi = []\n",
    "        \n",
    "        for run in range(runs):\n",
    "            j = execute(circ, backend=qi_backend, shots=shots)\n",
    "            jobs_phi.append(j)\n",
    "            \n",
    "        jobs_theta.append(jobs_phi)\n",
    "        \n",
    "    jobs.append(jobs_theta)"
   ]
  },
  {
   "cell_type": "code",
   "execution_count": 655,
   "id": "cc78af75-999f-4aa6-a1c7-475f3290bd31",
   "metadata": {
    "collapsed": true,
    "jupyter": {
     "outputs_hidden": true,
     "source_hidden": true
    },
    "tags": []
   },
   "outputs": [
    {
     "name": "stdout",
     "output_type": "stream",
     "text": [
      "theta = 0.0, phi = 0.0\n",
      "Run = 0\n",
      "{'00000': 83, '00001': 46, '00010': 22, '00011': 23, '00100': 56, '00101': 42, '00110': 10, '00111': 22, '01000': 45, '01001': 63, '01010': 25, '01011': 16, '01100': 53, '01101': 32, '01110': 12, '01111': 11, '10000': 69, '10001': 45, '10010': 25, '10011': 21, '10100': 50, '10101': 26, '10110': 8, '10111': 14, '11000': 47, '11001': 36, '11010': 15, '11011': 13, '11100': 35, '11101': 17, '11110': 8, '11111': 10}\n",
      "avg_x = 0.0639269406392694\n",
      "\n",
      "theta = 0.2243994752564138, phi = 0.0\n",
      "Run = 0\n",
      "{'00000': 125, '00001': 32, '00010': 22, '00011': 12, '00100': 61, '00101': 18, '00110': 21, '00111': 7, '01000': 79, '01001': 35, '01010': 25, '01011': 17, '01100': 63, '01101': 28, '01110': 16, '01111': 6, '10000': 68, '10001': 34, '10010': 23, '10011': 17, '10100': 61, '10101': 25, '10110': 19, '10111': 11, '11000': 53, '11001': 23, '11010': 15, '11011': 12, '11100': 27, '11101': 24, '11110': 12, '11111': 9}\n",
      "avg_x = 0.12476722532588454\n",
      "\n",
      "theta = 0.4487989505128276, phi = 0.0\n",
      "Run = 0\n",
      "{'00000': 106, '00001': 26, '00010': 15, '00011': 10, '00100': 57, '00101': 27, '00110': 5, '00111': 10, '01000': 77, '01001': 41, '01010': 14, '01011': 16, '01100': 60, '01101': 44, '01110': 8, '01111': 13, '10000': 59, '10001': 11, '10010': 13, '10011': 8, '10100': 71, '10101': 14, '10110': 15, '10111': 5, '11000': 121, '11001': 34, '11010': 14, '11011': 10, '11100': 59, '11101': 22, '11110': 5, '11111': 10}\n",
      "avg_x = 0.1737704918032787\n",
      "\n",
      "theta = 0.6731984257692414, phi = 0.0\n",
      "Run = 0\n",
      "{'00000': 69, '00001': 22, '00010': 23, '00011': 17, '00100': 26, '00101': 26, '00110': 3, '00111': 10, '01000': 106, '01001': 48, '01010': 30, '01011': 26, '01100': 62, '01101': 32, '01110': 19, '01111': 19, '10000': 50, '10001': 14, '10010': 15, '10011': 20, '10100': 33, '10101': 9, '10110': 9, '10111': 7, '11000': 110, '11001': 37, '11010': 32, '11011': 30, '11100': 45, '11101': 25, '11110': 15, '11111': 11}\n",
      "avg_x = 0.09381237524950099\n",
      "\n",
      "theta = 0.8975979010256552, phi = 0.0\n",
      "Run = 0\n",
      "{'00000': 69, '00001': 36, '00010': 29, '00011': 27, '00100': 28, '00101': 19, '00110': 29, '00111': 17, '01000': 48, '01001': 31, '01010': 42, '01011': 26, '01100': 53, '01101': 34, '01110': 27, '01111': 15, '10000': 51, '10001': 14, '10010': 35, '10011': 38, '10100': 39, '10101': 16, '10110': 19, '10111': 13, '11000': 81, '11001': 27, '11010': 42, '11011': 26, '11100': 28, '11101': 16, '11110': 12, '11111': 13}\n",
      "avg_x = 0.21914357682619648\n",
      "\n",
      "theta = 1.121997376282069, phi = 0.0\n",
      "Run = 0\n",
      "{'00000': 103, '00001': 38, '00010': 25, '00011': 19, '00100': 36, '00101': 15, '00110': 9, '00111': 5, '01000': 83, '01001': 47, '01010': 36, '01011': 23, '01100': 53, '01101': 36, '01110': 14, '01111': 9, '10000': 68, '10001': 23, '10010': 19, '10011': 17, '10100': 40, '10101': 17, '10110': 11, '10111': 11, '11000': 106, '11001': 36, '11010': 22, '11011': 15, '11100': 21, '11101': 11, '11110': 22, '11111': 10}\n",
      "avg_x = 0.1843137254901961\n",
      "\n",
      "theta = 1.3463968515384828, phi = 0.0\n",
      "Run = 0\n",
      "{'00000': 75, '00001': 51, '00010': 28, '00011': 33, '00100': 59, '00101': 42, '00110': 10, '00111': 20, '01000': 24, '01001': 12, '01010': 7, '01011': 10, '01100': 51, '01101': 44, '01110': 14, '01111': 15, '10000': 43, '10001': 37, '10010': 17, '10011': 30, '10100': 107, '10101': 44, '10110': 35, '10111': 17, '11000': 53, '11001': 17, '11010': 14, '11011': 9, '11100': 40, '11101': 25, '11110': 13, '11111': 4}\n",
      "avg_x = 0.26548672566371684\n",
      "\n",
      "theta = 1.5707963267948966, phi = 0.0\n",
      "Run = 0\n",
      "{'00000': 81, '00001': 30, '00010': 20, '00011': 14, '00100': 24, '00101': 27, '00110': 6, '00111': 5, '01000': 80, '01001': 32, '01010': 21, '01011': 22, '01100': 78, '01101': 58, '01110': 10, '01111': 18, '10000': 39, '10001': 22, '10010': 10, '10011': 11, '10100': 72, '10101': 22, '10110': 8, '10111': 11, '11000': 118, '11001': 34, '11010': 17, '11011': 13, '11100': 47, '11101': 31, '11110': 8, '11111': 11}\n",
      "avg_x = 0.2949907235621521\n",
      "\n",
      "theta = 1.7951958020513104, phi = 0.0\n",
      "Run = 0\n",
      "{'00000': 78, '00001': 39, '00010': 21, '00011': 20, '00100': 52, '00101': 31, '00110': 25, '00111': 17, '01000': 26, '01001': 16, '01010': 19, '01011': 8, '01100': 71, '01101': 51, '01110': 15, '01111': 10, '10000': 51, '10001': 16, '10010': 22, '10011': 11, '10100': 97, '10101': 36, '10110': 24, '10111': 19, '11000': 65, '11001': 18, '11010': 18, '11011': 15, '11100': 57, '11101': 29, '11110': 13, '11111': 10}\n",
      "avg_x = 0.2515090543259557\n",
      "\n",
      "theta = 2.019595277307724, phi = 0.0\n",
      "Run = 0\n",
      "{'00000': 71, '00001': 47, '00010': 34, '00011': 28, '00100': 35, '00101': 27, '00110': 17, '00111': 15, '01000': 29, '01001': 24, '01010': 12, '01011': 12, '01100': 60, '01101': 41, '01110': 14, '01111': 6, '10000': 37, '10001': 21, '10010': 35, '10011': 16, '10100': 81, '10101': 35, '10110': 26, '10111': 19, '11000': 75, '11001': 26, '11010': 30, '11011': 6, '11100': 49, '11101': 34, '11110': 25, '11111': 13}\n",
      "avg_x = 0.3135011441647597\n",
      "\n",
      "theta = 2.243994752564138, phi = 0.0\n",
      "Run = 0\n",
      "{'00000': 61, '00001': 43, '00010': 36, '00011': 18, '00100': 37, '00101': 28, '00110': 19, '00111': 11, '01000': 34, '01001': 15, '01010': 16, '01011': 19, '01100': 57, '01101': 62, '01110': 20, '01111': 10, '10000': 54, '10001': 22, '10010': 26, '10011': 16, '10100': 67, '10101': 42, '10110': 32, '10111': 23, '11000': 61, '11001': 15, '11010': 31, '11011': 12, '11100': 37, '11101': 30, '11110': 31, '11111': 15}\n",
      "avg_x = 0.20588235294117646\n",
      "\n",
      "theta = 2.4683942278205517, phi = 0.0\n",
      "Run = 0\n",
      "{'00000': 101, '00001': 37, '00010': 29, '00011': 11, '00100': 45, '00101': 17, '00110': 7, '00111': 8, '01000': 30, '01001': 24, '01010': 22, '01011': 12, '01100': 49, '01101': 28, '01110': 11, '01111': 14, '10000': 55, '10001': 46, '10010': 30, '10011': 22, '10100': 97, '10101': 34, '10110': 21, '10111': 25, '11000': 81, '11001': 31, '11010': 24, '11011': 21, '11100': 23, '11101': 33, '11110': 7, '11111': 5}\n",
      "avg_x = 0.36382536382536385\n",
      "\n",
      "theta = 2.6927937030769655, phi = 0.0\n",
      "Run = 0\n",
      "{'00000': 71, '00001': 65, '00010': 24, '00011': 43, '00100': 36, '00101': 42, '00110': 17, '00111': 26, '01000': 40, '01001': 40, '01010': 19, '01011': 21, '01100': 34, '01101': 36, '01110': 24, '01111': 31, '10000': 25, '10001': 42, '10010': 20, '10011': 28, '10100': 32, '10101': 42, '10110': 20, '10111': 27, '11000': 32, '11001': 36, '11010': 13, '11011': 24, '11100': 13, '11101': 39, '11110': 19, '11111': 19}\n",
      "avg_x = 0.19434628975265017\n",
      "\n",
      "theta = 2.9171931783333793, phi = 0.0\n",
      "Run = 0\n",
      "{'00000': 55, '00001': 32, '00010': 16, '00011': 28, '00100': 50, '00101': 27, '00110': 14, '00111': 21, '01000': 34, '01001': 61, '01010': 11, '01011': 31, '01100': 44, '01101': 36, '01110': 16, '01111': 18, '10000': 47, '10001': 51, '10010': 20, '10011': 15, '10100': 48, '10101': 36, '10110': 9, '10111': 28, '11000': 66, '11001': 45, '11010': 18, '11011': 21, '11100': 39, '11101': 32, '11110': 17, '11111': 14}\n",
      "avg_x = 0.1122715404699739\n",
      "\n",
      "theta = 3.141592653589793, phi = 0.0\n",
      "Run = 0\n",
      "{'00000': 41, '00001': 48, '00010': 19, '00011': 42, '00100': 45, '00101': 67, '00110': 22, '00111': 43, '01000': 32, '01001': 45, '01010': 16, '01011': 30, '01100': 40, '01101': 24, '01110': 13, '01111': 27, '10000': 29, '10001': 49, '10010': 30, '10011': 43, '10100': 35, '10101': 30, '10110': 19, '10111': 38, '11000': 25, '11001': 30, '11010': 13, '11011': 19, '11100': 20, '11101': 36, '11110': 11, '11111': 19}\n",
      "avg_x = 0.056179775280898875\n",
      "\n"
     ]
    }
   ],
   "source": [
    "# Analyze results.\n",
    "avg_ys_starmon = []\n",
    "\n",
    "for i, jobs_theta in enumerate(jobs):\n",
    "    avg_theta = []\n",
    "    \n",
    "    for k, jobs_phi in enumerate(jobs_theta):\n",
    "        print(f'theta = {thetas[i]}, phi = {phis[k]}')\n",
    "        \n",
    "        # Loop over runs.\n",
    "        avg_runs = []\n",
    "        for l, j in enumerate(jobs_phi):\n",
    "            result = j.result()\n",
    "            counts = result.get_counts()\n",
    "            plot_histogram(counts)\n",
    "            avg = 0\n",
    "            pop = 0\n",
    "            \n",
    "            # In a single run.\n",
    "            for bitstring in counts:\n",
    "                if bitstring[-2:] == '00': # Postselect.\n",
    "                    _bitstring = map_to_pm1(bitstring[:3])\n",
    "                    #print(bitstring)\n",
    "                    #print(_bitstring)\n",
    "                    #print(prod)\n",
    "                    prod = np.prod(_bitstring)\n",
    "                    avg += prod * counts[bitstring]\n",
    "                    pop += counts[bitstring]\n",
    "            \n",
    "            avg /= pop\n",
    "            avg_runs.append(avg)\n",
    "            print(f'Run = {l}')\n",
    "            print(counts)\n",
    "            print(f'avg_x = {avg}\\n')\n",
    "            \n",
    "        avg_theta.append(np.mean(avg_runs))\n",
    "    \n",
    "    avg_ys_starmon.append(avg_theta)"
   ]
  },
  {
   "cell_type": "code",
   "execution_count": 656,
   "id": "9a224596-5b31-4add-b3b4-c7833ba9de9c",
   "metadata": {
    "tags": []
   },
   "outputs": [
    {
     "data": {
      "text/plain": [
       "[[0.0639269406392694],\n",
       " [0.12476722532588454],\n",
       " [0.1737704918032787],\n",
       " [0.09381237524950099],\n",
       " [0.21914357682619648],\n",
       " [0.1843137254901961],\n",
       " [0.26548672566371684],\n",
       " [0.2949907235621521],\n",
       " [0.2515090543259557],\n",
       " [0.3135011441647597],\n",
       " [0.20588235294117646],\n",
       " [0.36382536382536385],\n",
       " [0.19434628975265017],\n",
       " [0.1122715404699739],\n",
       " [0.056179775280898875]]"
      ]
     },
     "execution_count": 656,
     "metadata": {},
     "output_type": "execute_result"
    }
   ],
   "source": [
    "avg_ys_starmon"
   ]
  },
  {
   "cell_type": "code",
   "execution_count": null,
   "id": "cf29b56d-9608-47d5-b113-11307f11182b",
   "metadata": {},
   "outputs": [],
   "source": []
  }
 ],
 "metadata": {
  "kernelspec": {
   "display_name": "Python 3 (ipykernel)",
   "language": "python",
   "name": "python3"
  },
  "language_info": {
   "codemirror_mode": {
    "name": "ipython",
    "version": 3
   },
   "file_extension": ".py",
   "mimetype": "text/x-python",
   "name": "python",
   "nbconvert_exporter": "python",
   "pygments_lexer": "ipython3",
   "version": "3.7.4"
  }
 },
 "nbformat": 4,
 "nbformat_minor": 5
}
